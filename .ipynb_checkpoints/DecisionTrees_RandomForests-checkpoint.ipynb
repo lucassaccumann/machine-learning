{
 "cells": [
  {
   "cell_type": "code",
   "execution_count": 12,
   "metadata": {},
   "outputs": [],
   "source": [
    "%matplotlib inline\n",
    "import numpy as np\n",
    "import matplotlib.pyplot as plt\n",
    "import seaborn as sns; sns.set()\n",
    "import pandas as pd\n",
    "import math"
   ]
  },
  {
   "cell_type": "code",
   "execution_count": 13,
   "metadata": {},
   "outputs": [],
   "source": [
    "from sklearn.model_selection import train_test_split\n",
    "from sklearn.model_selection import KFold, LeaveOneOut\n",
    "from sklearn.utils import resample\n",
    "from sklearn.model_selection import cross_val_score\n",
    "from sklearn.metrics import confusion_matrix\n",
    "from sklearn.metrics import accuracy_score\n",
    "from sklearn.metrics import roc_auc_score\n",
    "from sklearn import metrics\n",
    "from sklearn.tree import DecisionTreeClassifier\n",
    "from sklearn.tree import DecisionTreeRegressor\n",
    "from sklearn.ensemble import BaggingClassifier\n",
    "from sklearn.ensemble import RandomForestRegressor"
   ]
  },
  {
   "cell_type": "code",
   "execution_count": 14,
   "metadata": {},
   "outputs": [],
   "source": [
    "data_wine = pd.read_csv('data_files/wine.csv')"
   ]
  },
  {
   "cell_type": "code",
   "execution_count": 15,
   "metadata": {},
   "outputs": [
    {
     "data": {
      "text/html": [
       "<div>\n",
       "<style scoped>\n",
       "    .dataframe tbody tr th:only-of-type {\n",
       "        vertical-align: middle;\n",
       "    }\n",
       "\n",
       "    .dataframe tbody tr th {\n",
       "        vertical-align: top;\n",
       "    }\n",
       "\n",
       "    .dataframe thead th {\n",
       "        text-align: right;\n",
       "    }\n",
       "</style>\n",
       "<table border=\"1\" class=\"dataframe\">\n",
       "  <thead>\n",
       "    <tr style=\"text-align: right;\">\n",
       "      <th></th>\n",
       "      <th>Alcohol</th>\n",
       "      <th>Malic_Acid</th>\n",
       "      <th>Ash</th>\n",
       "      <th>Ash_Alcanity</th>\n",
       "      <th>Magnesium</th>\n",
       "      <th>Total_Phenols</th>\n",
       "      <th>Flavanoids</th>\n",
       "      <th>Nonflavanoid_Phenols</th>\n",
       "      <th>Proanthocyanins</th>\n",
       "      <th>Color_Intensity</th>\n",
       "      <th>Hue</th>\n",
       "      <th>OD280</th>\n",
       "      <th>Proline</th>\n",
       "      <th>Customer_Segment</th>\n",
       "    </tr>\n",
       "  </thead>\n",
       "  <tbody>\n",
       "    <tr>\n",
       "      <th>0</th>\n",
       "      <td>14.23</td>\n",
       "      <td>1.71</td>\n",
       "      <td>2.43</td>\n",
       "      <td>15.6</td>\n",
       "      <td>127</td>\n",
       "      <td>2.80</td>\n",
       "      <td>3.06</td>\n",
       "      <td>0.28</td>\n",
       "      <td>2.29</td>\n",
       "      <td>5.64</td>\n",
       "      <td>1.04</td>\n",
       "      <td>3.92</td>\n",
       "      <td>1065</td>\n",
       "      <td>1</td>\n",
       "    </tr>\n",
       "    <tr>\n",
       "      <th>1</th>\n",
       "      <td>13.20</td>\n",
       "      <td>1.78</td>\n",
       "      <td>2.14</td>\n",
       "      <td>11.2</td>\n",
       "      <td>100</td>\n",
       "      <td>2.65</td>\n",
       "      <td>2.76</td>\n",
       "      <td>0.26</td>\n",
       "      <td>1.28</td>\n",
       "      <td>4.38</td>\n",
       "      <td>1.05</td>\n",
       "      <td>3.40</td>\n",
       "      <td>1050</td>\n",
       "      <td>1</td>\n",
       "    </tr>\n",
       "    <tr>\n",
       "      <th>2</th>\n",
       "      <td>13.16</td>\n",
       "      <td>2.36</td>\n",
       "      <td>2.67</td>\n",
       "      <td>18.6</td>\n",
       "      <td>101</td>\n",
       "      <td>2.80</td>\n",
       "      <td>3.24</td>\n",
       "      <td>0.30</td>\n",
       "      <td>2.81</td>\n",
       "      <td>5.68</td>\n",
       "      <td>1.03</td>\n",
       "      <td>3.17</td>\n",
       "      <td>1185</td>\n",
       "      <td>1</td>\n",
       "    </tr>\n",
       "    <tr>\n",
       "      <th>3</th>\n",
       "      <td>14.37</td>\n",
       "      <td>1.95</td>\n",
       "      <td>2.50</td>\n",
       "      <td>16.8</td>\n",
       "      <td>113</td>\n",
       "      <td>3.85</td>\n",
       "      <td>3.49</td>\n",
       "      <td>0.24</td>\n",
       "      <td>2.18</td>\n",
       "      <td>7.80</td>\n",
       "      <td>0.86</td>\n",
       "      <td>3.45</td>\n",
       "      <td>1480</td>\n",
       "      <td>1</td>\n",
       "    </tr>\n",
       "    <tr>\n",
       "      <th>4</th>\n",
       "      <td>13.24</td>\n",
       "      <td>2.59</td>\n",
       "      <td>2.87</td>\n",
       "      <td>21.0</td>\n",
       "      <td>118</td>\n",
       "      <td>2.80</td>\n",
       "      <td>2.69</td>\n",
       "      <td>0.39</td>\n",
       "      <td>1.82</td>\n",
       "      <td>4.32</td>\n",
       "      <td>1.04</td>\n",
       "      <td>2.93</td>\n",
       "      <td>735</td>\n",
       "      <td>1</td>\n",
       "    </tr>\n",
       "  </tbody>\n",
       "</table>\n",
       "</div>"
      ],
      "text/plain": [
       "   Alcohol  Malic_Acid   Ash  Ash_Alcanity  Magnesium  Total_Phenols  \\\n",
       "0    14.23        1.71  2.43          15.6        127           2.80   \n",
       "1    13.20        1.78  2.14          11.2        100           2.65   \n",
       "2    13.16        2.36  2.67          18.6        101           2.80   \n",
       "3    14.37        1.95  2.50          16.8        113           3.85   \n",
       "4    13.24        2.59  2.87          21.0        118           2.80   \n",
       "\n",
       "   Flavanoids  Nonflavanoid_Phenols  Proanthocyanins  Color_Intensity   Hue  \\\n",
       "0        3.06                  0.28             2.29             5.64  1.04   \n",
       "1        2.76                  0.26             1.28             4.38  1.05   \n",
       "2        3.24                  0.30             2.81             5.68  1.03   \n",
       "3        3.49                  0.24             2.18             7.80  0.86   \n",
       "4        2.69                  0.39             1.82             4.32  1.04   \n",
       "\n",
       "   OD280  Proline  Customer_Segment  \n",
       "0   3.92     1065                 1  \n",
       "1   3.40     1050                 1  \n",
       "2   3.17     1185                 1  \n",
       "3   3.45     1480                 1  \n",
       "4   2.93      735                 1  "
      ]
     },
     "execution_count": 15,
     "metadata": {},
     "output_type": "execute_result"
    }
   ],
   "source": [
    "data_wine.head()"
   ]
  },
  {
   "cell_type": "code",
   "execution_count": 16,
   "metadata": {},
   "outputs": [],
   "source": [
    "data_wine_x = data_wine.iloc[:,:-1]"
   ]
  },
  {
   "cell_type": "code",
   "execution_count": 17,
   "metadata": {},
   "outputs": [],
   "source": [
    "data_wine_y = data_wine.iloc[:,-1:]"
   ]
  },
  {
   "cell_type": "code",
   "execution_count": 18,
   "metadata": {},
   "outputs": [
    {
     "data": {
      "text/plain": [
       "<bound method NDFrame.head of      Alcohol  Malic_Acid   Ash  Ash_Alcanity  Magnesium  Total_Phenols  \\\n",
       "0      14.23        1.71  2.43          15.6        127           2.80   \n",
       "1      13.20        1.78  2.14          11.2        100           2.65   \n",
       "2      13.16        2.36  2.67          18.6        101           2.80   \n",
       "3      14.37        1.95  2.50          16.8        113           3.85   \n",
       "4      13.24        2.59  2.87          21.0        118           2.80   \n",
       "5      14.20        1.76  2.45          15.2        112           3.27   \n",
       "6      14.39        1.87  2.45          14.6         96           2.50   \n",
       "7      14.06        2.15  2.61          17.6        121           2.60   \n",
       "8      14.83        1.64  2.17          14.0         97           2.80   \n",
       "9      13.86        1.35  2.27          16.0         98           2.98   \n",
       "10     14.10        2.16  2.30          18.0        105           2.95   \n",
       "11     14.12        1.48  2.32          16.8         95           2.20   \n",
       "12     13.75        1.73  2.41          16.0         89           2.60   \n",
       "13     14.75        1.73  2.39          11.4         91           3.10   \n",
       "14     14.38        1.87  2.38          12.0        102           3.30   \n",
       "15     13.63        1.81  2.70          17.2        112           2.85   \n",
       "16     14.30        1.92  2.72          20.0        120           2.80   \n",
       "17     13.83        1.57  2.62          20.0        115           2.95   \n",
       "18     14.19        1.59  2.48          16.5        108           3.30   \n",
       "19     13.64        3.10  2.56          15.2        116           2.70   \n",
       "20     14.06        1.63  2.28          16.0        126           3.00   \n",
       "21     12.93        3.80  2.65          18.6        102           2.41   \n",
       "22     13.71        1.86  2.36          16.6        101           2.61   \n",
       "23     12.85        1.60  2.52          17.8         95           2.48   \n",
       "24     13.50        1.81  2.61          20.0         96           2.53   \n",
       "25     13.05        2.05  3.22          25.0        124           2.63   \n",
       "26     13.39        1.77  2.62          16.1         93           2.85   \n",
       "27     13.30        1.72  2.14          17.0         94           2.40   \n",
       "28     13.87        1.90  2.80          19.4        107           2.95   \n",
       "29     14.02        1.68  2.21          16.0         96           2.65   \n",
       "..       ...         ...   ...           ...        ...            ...   \n",
       "148    13.32        3.24  2.38          21.5         92           1.93   \n",
       "149    13.08        3.90  2.36          21.5        113           1.41   \n",
       "150    13.50        3.12  2.62          24.0        123           1.40   \n",
       "151    12.79        2.67  2.48          22.0        112           1.48   \n",
       "152    13.11        1.90  2.75          25.5        116           2.20   \n",
       "153    13.23        3.30  2.28          18.5         98           1.80   \n",
       "154    12.58        1.29  2.10          20.0        103           1.48   \n",
       "155    13.17        5.19  2.32          22.0         93           1.74   \n",
       "156    13.84        4.12  2.38          19.5         89           1.80   \n",
       "157    12.45        3.03  2.64          27.0         97           1.90   \n",
       "158    14.34        1.68  2.70          25.0         98           2.80   \n",
       "159    13.48        1.67  2.64          22.5         89           2.60   \n",
       "160    12.36        3.83  2.38          21.0         88           2.30   \n",
       "161    13.69        3.26  2.54          20.0        107           1.83   \n",
       "162    12.85        3.27  2.58          22.0        106           1.65   \n",
       "163    12.96        3.45  2.35          18.5        106           1.39   \n",
       "164    13.78        2.76  2.30          22.0         90           1.35   \n",
       "165    13.73        4.36  2.26          22.5         88           1.28   \n",
       "166    13.45        3.70  2.60          23.0        111           1.70   \n",
       "167    12.82        3.37  2.30          19.5         88           1.48   \n",
       "168    13.58        2.58  2.69          24.5        105           1.55   \n",
       "169    13.40        4.60  2.86          25.0        112           1.98   \n",
       "170    12.20        3.03  2.32          19.0         96           1.25   \n",
       "171    12.77        2.39  2.28          19.5         86           1.39   \n",
       "172    14.16        2.51  2.48          20.0         91           1.68   \n",
       "173    13.71        5.65  2.45          20.5         95           1.68   \n",
       "174    13.40        3.91  2.48          23.0        102           1.80   \n",
       "175    13.27        4.28  2.26          20.0        120           1.59   \n",
       "176    13.17        2.59  2.37          20.0        120           1.65   \n",
       "177    14.13        4.10  2.74          24.5         96           2.05   \n",
       "\n",
       "     Flavanoids  Nonflavanoid_Phenols  Proanthocyanins  Color_Intensity   Hue  \\\n",
       "0          3.06                  0.28             2.29         5.640000  1.04   \n",
       "1          2.76                  0.26             1.28         4.380000  1.05   \n",
       "2          3.24                  0.30             2.81         5.680000  1.03   \n",
       "3          3.49                  0.24             2.18         7.800000  0.86   \n",
       "4          2.69                  0.39             1.82         4.320000  1.04   \n",
       "5          3.39                  0.34             1.97         6.750000  1.05   \n",
       "6          2.52                  0.30             1.98         5.250000  1.02   \n",
       "7          2.51                  0.31             1.25         5.050000  1.06   \n",
       "8          2.98                  0.29             1.98         5.200000  1.08   \n",
       "9          3.15                  0.22             1.85         7.220000  1.01   \n",
       "10         3.32                  0.22             2.38         5.750000  1.25   \n",
       "11         2.43                  0.26             1.57         5.000000  1.17   \n",
       "12         2.76                  0.29             1.81         5.600000  1.15   \n",
       "13         3.69                  0.43             2.81         5.400000  1.25   \n",
       "14         3.64                  0.29             2.96         7.500000  1.20   \n",
       "15         2.91                  0.30             1.46         7.300000  1.28   \n",
       "16         3.14                  0.33             1.97         6.200000  1.07   \n",
       "17         3.40                  0.40             1.72         6.600000  1.13   \n",
       "18         3.93                  0.32             1.86         8.700000  1.23   \n",
       "19         3.03                  0.17             1.66         5.100000  0.96   \n",
       "20         3.17                  0.24             2.10         5.650000  1.09   \n",
       "21         2.41                  0.25             1.98         4.500000  1.03   \n",
       "22         2.88                  0.27             1.69         3.800000  1.11   \n",
       "23         2.37                  0.26             1.46         3.930000  1.09   \n",
       "24         2.61                  0.28             1.66         3.520000  1.12   \n",
       "25         2.68                  0.47             1.92         3.580000  1.13   \n",
       "26         2.94                  0.34             1.45         4.800000  0.92   \n",
       "27         2.19                  0.27             1.35         3.950000  1.02   \n",
       "28         2.97                  0.37             1.76         4.500000  1.25   \n",
       "29         2.33                  0.26             1.98         4.700000  1.04   \n",
       "..          ...                   ...              ...              ...   ...   \n",
       "148        0.76                  0.45             1.25         8.420000  0.55   \n",
       "149        1.39                  0.34             1.14         9.400000  0.57   \n",
       "150        1.57                  0.22             1.25         8.600000  0.59   \n",
       "151        1.36                  0.24             1.26        10.800000  0.48   \n",
       "152        1.28                  0.26             1.56         7.100000  0.61   \n",
       "153        0.83                  0.61             1.87        10.520000  0.56   \n",
       "154        0.58                  0.53             1.40         7.600000  0.58   \n",
       "155        0.63                  0.61             1.55         7.900000  0.60   \n",
       "156        0.83                  0.48             1.56         9.010000  0.57   \n",
       "157        0.58                  0.63             1.14         7.500000  0.67   \n",
       "158        1.31                  0.53             2.70        13.000000  0.57   \n",
       "159        1.10                  0.52             2.29        11.750000  0.57   \n",
       "160        0.92                  0.50             1.04         7.650000  0.56   \n",
       "161        0.56                  0.50             0.80         5.880000  0.96   \n",
       "162        0.60                  0.60             0.96         5.580000  0.87   \n",
       "163        0.70                  0.40             0.94         5.280000  0.68   \n",
       "164        0.68                  0.41             1.03         9.580000  0.70   \n",
       "165        0.47                  0.52             1.15         6.620000  0.78   \n",
       "166        0.92                  0.43             1.46        10.680000  0.85   \n",
       "167        0.66                  0.40             0.97        10.260000  0.72   \n",
       "168        0.84                  0.39             1.54         8.660000  0.74   \n",
       "169        0.96                  0.27             1.11         8.500000  0.67   \n",
       "170        0.49                  0.40             0.73         5.500000  0.66   \n",
       "171        0.51                  0.48             0.64         9.899999  0.57   \n",
       "172        0.70                  0.44             1.24         9.700000  0.62   \n",
       "173        0.61                  0.52             1.06         7.700000  0.64   \n",
       "174        0.75                  0.43             1.41         7.300000  0.70   \n",
       "175        0.69                  0.43             1.35        10.200000  0.59   \n",
       "176        0.68                  0.53             1.46         9.300000  0.60   \n",
       "177        0.76                  0.56             1.35         9.200000  0.61   \n",
       "\n",
       "     OD280  Proline  Customer_Segment  \n",
       "0     3.92     1065                 1  \n",
       "1     3.40     1050                 1  \n",
       "2     3.17     1185                 1  \n",
       "3     3.45     1480                 1  \n",
       "4     2.93      735                 1  \n",
       "5     2.85     1450                 1  \n",
       "6     3.58     1290                 1  \n",
       "7     3.58     1295                 1  \n",
       "8     2.85     1045                 1  \n",
       "9     3.55     1045                 1  \n",
       "10    3.17     1510                 1  \n",
       "11    2.82     1280                 1  \n",
       "12    2.90     1320                 1  \n",
       "13    2.73     1150                 1  \n",
       "14    3.00     1547                 1  \n",
       "15    2.88     1310                 1  \n",
       "16    2.65     1280                 1  \n",
       "17    2.57     1130                 1  \n",
       "18    2.82     1680                 1  \n",
       "19    3.36      845                 1  \n",
       "20    3.71      780                 1  \n",
       "21    3.52      770                 1  \n",
       "22    4.00     1035                 1  \n",
       "23    3.63     1015                 1  \n",
       "24    3.82      845                 1  \n",
       "25    3.20      830                 1  \n",
       "26    3.22     1195                 1  \n",
       "27    2.77     1285                 1  \n",
       "28    3.40      915                 1  \n",
       "29    3.59     1035                 1  \n",
       "..     ...      ...               ...  \n",
       "148   1.62      650                 3  \n",
       "149   1.33      550                 3  \n",
       "150   1.30      500                 3  \n",
       "151   1.47      480                 3  \n",
       "152   1.33      425                 3  \n",
       "153   1.51      675                 3  \n",
       "154   1.55      640                 3  \n",
       "155   1.48      725                 3  \n",
       "156   1.64      480                 3  \n",
       "157   1.73      880                 3  \n",
       "158   1.96      660                 3  \n",
       "159   1.78      620                 3  \n",
       "160   1.58      520                 3  \n",
       "161   1.82      680                 3  \n",
       "162   2.11      570                 3  \n",
       "163   1.75      675                 3  \n",
       "164   1.68      615                 3  \n",
       "165   1.75      520                 3  \n",
       "166   1.56      695                 3  \n",
       "167   1.75      685                 3  \n",
       "168   1.80      750                 3  \n",
       "169   1.92      630                 3  \n",
       "170   1.83      510                 3  \n",
       "171   1.63      470                 3  \n",
       "172   1.71      660                 3  \n",
       "173   1.74      740                 3  \n",
       "174   1.56      750                 3  \n",
       "175   1.56      835                 3  \n",
       "176   1.62      840                 3  \n",
       "177   1.60      560                 3  \n",
       "\n",
       "[178 rows x 14 columns]>"
      ]
     },
     "execution_count": 18,
     "metadata": {},
     "output_type": "execute_result"
    }
   ],
   "source": [
    "wine_xy = pd.concat([data_wine_x, data_wine_y], axis=1, sort=False)\n",
    "wine_xy.head"
   ]
  },
  {
   "cell_type": "markdown",
   "metadata": {},
   "source": [
    "#### http://scikit-learn.org/stable/modules/generated/sklearn.tree.DecisionTreeClassifier.html"
   ]
  },
  {
   "cell_type": "code",
   "execution_count": 19,
   "metadata": {},
   "outputs": [],
   "source": [
    "from sklearn.tree import DecisionTreeClassifier\n",
    "tree = DecisionTreeClassifier(criterion='gini',max_depth=None).fit(data_wine_x, data_wine_y)"
   ]
  },
  {
   "cell_type": "code",
   "execution_count": 20,
   "metadata": {},
   "outputs": [],
   "source": [
    "kf = KFold(n_splits=10,shuffle=False)\n",
    "scores = cross_val_score(tree, data_wine_x, data_wine_y, cv=kf)"
   ]
  },
  {
   "cell_type": "code",
   "execution_count": 22,
   "metadata": {},
   "outputs": [
    {
     "data": {
      "text/plain": [
       "0.8486928104575163"
      ]
     },
     "execution_count": 22,
     "metadata": {},
     "output_type": "execute_result"
    }
   ],
   "source": [
    "np.mean(scores)"
   ]
  },
  {
   "cell_type": "markdown",
   "metadata": {},
   "source": [
    "###  PRESTAR ATENCAO NO SHUFFLE"
   ]
  },
  {
   "cell_type": "markdown",
   "metadata": {},
   "source": [
    "#### Holdout"
   ]
  },
  {
   "cell_type": "code",
   "execution_count": 193,
   "metadata": {},
   "outputs": [],
   "source": [
    "X_train, X_test, y_train, y_test = train_test_split(data_wine_x, data_wine_y, test_size=0.25, random_state=0)"
   ]
  },
  {
   "cell_type": "code",
   "execution_count": 196,
   "metadata": {},
   "outputs": [],
   "source": [
    "y_pred_test = tree.predict(X_test)\n",
    "y_pred_train = tree.predict(X_train)\n",
    "\n",
    "#Avaliações la embaixo"
   ]
  },
  {
   "cell_type": "markdown",
   "metadata": {},
   "source": [
    "####  Bootstrap"
   ]
  },
  {
   "cell_type": "code",
   "execution_count": 436,
   "metadata": {},
   "outputs": [],
   "source": [
    "boot_data = resample(data_wine, replace=True,n_samples=len(data_wine))"
   ]
  },
  {
   "cell_type": "code",
   "execution_count": 458,
   "metadata": {
    "collapsed": true
   },
   "outputs": [
    {
     "data": {
      "text/html": [
       "<div>\n",
       "<style scoped>\n",
       "    .dataframe tbody tr th:only-of-type {\n",
       "        vertical-align: middle;\n",
       "    }\n",
       "\n",
       "    .dataframe tbody tr th {\n",
       "        vertical-align: top;\n",
       "    }\n",
       "\n",
       "    .dataframe thead th {\n",
       "        text-align: right;\n",
       "    }\n",
       "</style>\n",
       "<table border=\"1\" class=\"dataframe\">\n",
       "  <thead>\n",
       "    <tr style=\"text-align: right;\">\n",
       "      <th></th>\n",
       "      <th>Alcohol</th>\n",
       "      <th>Malic_Acid</th>\n",
       "      <th>Ash</th>\n",
       "      <th>Ash_Alcanity</th>\n",
       "      <th>Magnesium</th>\n",
       "      <th>Total_Phenols</th>\n",
       "      <th>Flavanoids</th>\n",
       "      <th>Nonflavanoid_Phenols</th>\n",
       "      <th>Proanthocyanins</th>\n",
       "      <th>Color_Intensity</th>\n",
       "      <th>Hue</th>\n",
       "      <th>OD280</th>\n",
       "      <th>Proline</th>\n",
       "      <th>Customer_Segment</th>\n",
       "    </tr>\n",
       "  </thead>\n",
       "  <tbody>\n",
       "    <tr>\n",
       "      <th>60</th>\n",
       "      <td>12.33</td>\n",
       "      <td>1.10</td>\n",
       "      <td>2.28</td>\n",
       "      <td>16.0</td>\n",
       "      <td>101</td>\n",
       "      <td>2.05</td>\n",
       "      <td>1.09</td>\n",
       "      <td>0.63</td>\n",
       "      <td>0.41</td>\n",
       "      <td>3.27</td>\n",
       "      <td>1.25</td>\n",
       "      <td>1.67</td>\n",
       "      <td>680</td>\n",
       "      <td>2</td>\n",
       "    </tr>\n",
       "    <tr>\n",
       "      <th>49</th>\n",
       "      <td>13.94</td>\n",
       "      <td>1.73</td>\n",
       "      <td>2.27</td>\n",
       "      <td>17.4</td>\n",
       "      <td>108</td>\n",
       "      <td>2.88</td>\n",
       "      <td>3.54</td>\n",
       "      <td>0.32</td>\n",
       "      <td>2.08</td>\n",
       "      <td>8.90</td>\n",
       "      <td>1.12</td>\n",
       "      <td>3.10</td>\n",
       "      <td>1260</td>\n",
       "      <td>1</td>\n",
       "    </tr>\n",
       "    <tr>\n",
       "      <th>143</th>\n",
       "      <td>13.62</td>\n",
       "      <td>4.95</td>\n",
       "      <td>2.35</td>\n",
       "      <td>20.0</td>\n",
       "      <td>92</td>\n",
       "      <td>2.00</td>\n",
       "      <td>0.80</td>\n",
       "      <td>0.47</td>\n",
       "      <td>1.02</td>\n",
       "      <td>4.40</td>\n",
       "      <td>0.91</td>\n",
       "      <td>2.05</td>\n",
       "      <td>550</td>\n",
       "      <td>3</td>\n",
       "    </tr>\n",
       "    <tr>\n",
       "      <th>110</th>\n",
       "      <td>11.46</td>\n",
       "      <td>3.74</td>\n",
       "      <td>1.82</td>\n",
       "      <td>19.5</td>\n",
       "      <td>107</td>\n",
       "      <td>3.18</td>\n",
       "      <td>2.58</td>\n",
       "      <td>0.24</td>\n",
       "      <td>3.58</td>\n",
       "      <td>2.90</td>\n",
       "      <td>0.75</td>\n",
       "      <td>2.81</td>\n",
       "      <td>562</td>\n",
       "      <td>2</td>\n",
       "    </tr>\n",
       "    <tr>\n",
       "      <th>29</th>\n",
       "      <td>14.02</td>\n",
       "      <td>1.68</td>\n",
       "      <td>2.21</td>\n",
       "      <td>16.0</td>\n",
       "      <td>96</td>\n",
       "      <td>2.65</td>\n",
       "      <td>2.33</td>\n",
       "      <td>0.26</td>\n",
       "      <td>1.98</td>\n",
       "      <td>4.70</td>\n",
       "      <td>1.04</td>\n",
       "      <td>3.59</td>\n",
       "      <td>1035</td>\n",
       "      <td>1</td>\n",
       "    </tr>\n",
       "  </tbody>\n",
       "</table>\n",
       "</div>"
      ],
      "text/plain": [
       "     Alcohol  Malic_Acid   Ash  Ash_Alcanity  Magnesium  Total_Phenols  \\\n",
       "60     12.33        1.10  2.28          16.0        101           2.05   \n",
       "49     13.94        1.73  2.27          17.4        108           2.88   \n",
       "143    13.62        4.95  2.35          20.0         92           2.00   \n",
       "110    11.46        3.74  1.82          19.5        107           3.18   \n",
       "29     14.02        1.68  2.21          16.0         96           2.65   \n",
       "\n",
       "     Flavanoids  Nonflavanoid_Phenols  Proanthocyanins  Color_Intensity   Hue  \\\n",
       "60         1.09                  0.63             0.41             3.27  1.25   \n",
       "49         3.54                  0.32             2.08             8.90  1.12   \n",
       "143        0.80                  0.47             1.02             4.40  0.91   \n",
       "110        2.58                  0.24             3.58             2.90  0.75   \n",
       "29         2.33                  0.26             1.98             4.70  1.04   \n",
       "\n",
       "     OD280  Proline  Customer_Segment  \n",
       "60    1.67      680                 2  \n",
       "49    3.10     1260                 1  \n",
       "143   2.05      550                 3  \n",
       "110   2.81      562                 2  \n",
       "29    3.59     1035                 1  "
      ]
     },
     "execution_count": 458,
     "metadata": {},
     "output_type": "execute_result"
    }
   ],
   "source": [
    "boot_data.head()"
   ]
  },
  {
   "cell_type": "code",
   "execution_count": 437,
   "metadata": {},
   "outputs": [],
   "source": [
    "data_wine_x = data_wine.iloc[:,:-1]\n",
    "data_wine_y = data_wine.iloc[:,-1:]"
   ]
  },
  {
   "cell_type": "code",
   "execution_count": 468,
   "metadata": {},
   "outputs": [],
   "source": [
    "boot_data_x = boot_data.iloc[:,:-1]\n",
    "boot_data_y = boot_data.iloc[:,-1:]"
   ]
  },
  {
   "cell_type": "code",
   "execution_count": 469,
   "metadata": {},
   "outputs": [
    {
     "data": {
      "text/html": [
       "<div>\n",
       "<style scoped>\n",
       "    .dataframe tbody tr th:only-of-type {\n",
       "        vertical-align: middle;\n",
       "    }\n",
       "\n",
       "    .dataframe tbody tr th {\n",
       "        vertical-align: top;\n",
       "    }\n",
       "\n",
       "    .dataframe thead th {\n",
       "        text-align: right;\n",
       "    }\n",
       "</style>\n",
       "<table border=\"1\" class=\"dataframe\">\n",
       "  <thead>\n",
       "    <tr style=\"text-align: right;\">\n",
       "      <th></th>\n",
       "      <th>Alcohol</th>\n",
       "      <th>Malic_Acid</th>\n",
       "      <th>Ash</th>\n",
       "      <th>Ash_Alcanity</th>\n",
       "      <th>Magnesium</th>\n",
       "      <th>Total_Phenols</th>\n",
       "      <th>Flavanoids</th>\n",
       "      <th>Nonflavanoid_Phenols</th>\n",
       "      <th>Proanthocyanins</th>\n",
       "      <th>Color_Intensity</th>\n",
       "      <th>Hue</th>\n",
       "      <th>OD280</th>\n",
       "      <th>Proline</th>\n",
       "    </tr>\n",
       "  </thead>\n",
       "  <tbody>\n",
       "    <tr>\n",
       "      <th>60</th>\n",
       "      <td>12.33</td>\n",
       "      <td>1.10</td>\n",
       "      <td>2.28</td>\n",
       "      <td>16.0</td>\n",
       "      <td>101</td>\n",
       "      <td>2.05</td>\n",
       "      <td>1.09</td>\n",
       "      <td>0.63</td>\n",
       "      <td>0.41</td>\n",
       "      <td>3.27</td>\n",
       "      <td>1.25</td>\n",
       "      <td>1.67</td>\n",
       "      <td>680</td>\n",
       "    </tr>\n",
       "    <tr>\n",
       "      <th>49</th>\n",
       "      <td>13.94</td>\n",
       "      <td>1.73</td>\n",
       "      <td>2.27</td>\n",
       "      <td>17.4</td>\n",
       "      <td>108</td>\n",
       "      <td>2.88</td>\n",
       "      <td>3.54</td>\n",
       "      <td>0.32</td>\n",
       "      <td>2.08</td>\n",
       "      <td>8.90</td>\n",
       "      <td>1.12</td>\n",
       "      <td>3.10</td>\n",
       "      <td>1260</td>\n",
       "    </tr>\n",
       "    <tr>\n",
       "      <th>143</th>\n",
       "      <td>13.62</td>\n",
       "      <td>4.95</td>\n",
       "      <td>2.35</td>\n",
       "      <td>20.0</td>\n",
       "      <td>92</td>\n",
       "      <td>2.00</td>\n",
       "      <td>0.80</td>\n",
       "      <td>0.47</td>\n",
       "      <td>1.02</td>\n",
       "      <td>4.40</td>\n",
       "      <td>0.91</td>\n",
       "      <td>2.05</td>\n",
       "      <td>550</td>\n",
       "    </tr>\n",
       "    <tr>\n",
       "      <th>110</th>\n",
       "      <td>11.46</td>\n",
       "      <td>3.74</td>\n",
       "      <td>1.82</td>\n",
       "      <td>19.5</td>\n",
       "      <td>107</td>\n",
       "      <td>3.18</td>\n",
       "      <td>2.58</td>\n",
       "      <td>0.24</td>\n",
       "      <td>3.58</td>\n",
       "      <td>2.90</td>\n",
       "      <td>0.75</td>\n",
       "      <td>2.81</td>\n",
       "      <td>562</td>\n",
       "    </tr>\n",
       "    <tr>\n",
       "      <th>29</th>\n",
       "      <td>14.02</td>\n",
       "      <td>1.68</td>\n",
       "      <td>2.21</td>\n",
       "      <td>16.0</td>\n",
       "      <td>96</td>\n",
       "      <td>2.65</td>\n",
       "      <td>2.33</td>\n",
       "      <td>0.26</td>\n",
       "      <td>1.98</td>\n",
       "      <td>4.70</td>\n",
       "      <td>1.04</td>\n",
       "      <td>3.59</td>\n",
       "      <td>1035</td>\n",
       "    </tr>\n",
       "  </tbody>\n",
       "</table>\n",
       "</div>"
      ],
      "text/plain": [
       "     Alcohol  Malic_Acid   Ash  Ash_Alcanity  Magnesium  Total_Phenols  \\\n",
       "60     12.33        1.10  2.28          16.0        101           2.05   \n",
       "49     13.94        1.73  2.27          17.4        108           2.88   \n",
       "143    13.62        4.95  2.35          20.0         92           2.00   \n",
       "110    11.46        3.74  1.82          19.5        107           3.18   \n",
       "29     14.02        1.68  2.21          16.0         96           2.65   \n",
       "\n",
       "     Flavanoids  Nonflavanoid_Phenols  Proanthocyanins  Color_Intensity   Hue  \\\n",
       "60         1.09                  0.63             0.41             3.27  1.25   \n",
       "49         3.54                  0.32             2.08             8.90  1.12   \n",
       "143        0.80                  0.47             1.02             4.40  0.91   \n",
       "110        2.58                  0.24             3.58             2.90  0.75   \n",
       "29         2.33                  0.26             1.98             4.70  1.04   \n",
       "\n",
       "     OD280  Proline  \n",
       "60    1.67      680  \n",
       "49    3.10     1260  \n",
       "143   2.05      550  \n",
       "110   2.81      562  \n",
       "29    3.59     1035  "
      ]
     },
     "execution_count": 469,
     "metadata": {},
     "output_type": "execute_result"
    }
   ],
   "source": [
    "boot_data_x.head()"
   ]
  },
  {
   "cell_type": "code",
   "execution_count": 470,
   "metadata": {},
   "outputs": [
    {
     "data": {
      "text/html": [
       "<div>\n",
       "<style scoped>\n",
       "    .dataframe tbody tr th:only-of-type {\n",
       "        vertical-align: middle;\n",
       "    }\n",
       "\n",
       "    .dataframe tbody tr th {\n",
       "        vertical-align: top;\n",
       "    }\n",
       "\n",
       "    .dataframe thead th {\n",
       "        text-align: right;\n",
       "    }\n",
       "</style>\n",
       "<table border=\"1\" class=\"dataframe\">\n",
       "  <thead>\n",
       "    <tr style=\"text-align: right;\">\n",
       "      <th></th>\n",
       "      <th>Customer_Segment</th>\n",
       "    </tr>\n",
       "  </thead>\n",
       "  <tbody>\n",
       "    <tr>\n",
       "      <th>60</th>\n",
       "      <td>2</td>\n",
       "    </tr>\n",
       "    <tr>\n",
       "      <th>49</th>\n",
       "      <td>1</td>\n",
       "    </tr>\n",
       "    <tr>\n",
       "      <th>143</th>\n",
       "      <td>3</td>\n",
       "    </tr>\n",
       "    <tr>\n",
       "      <th>110</th>\n",
       "      <td>2</td>\n",
       "    </tr>\n",
       "    <tr>\n",
       "      <th>29</th>\n",
       "      <td>1</td>\n",
       "    </tr>\n",
       "  </tbody>\n",
       "</table>\n",
       "</div>"
      ],
      "text/plain": [
       "     Customer_Segment\n",
       "60                  2\n",
       "49                  1\n",
       "143                 3\n",
       "110                 2\n",
       "29                  1"
      ]
     },
     "execution_count": 470,
     "metadata": {},
     "output_type": "execute_result"
    }
   ],
   "source": [
    "boot_wine_y.head()"
   ]
  },
  {
   "cell_type": "code",
   "execution_count": 471,
   "metadata": {},
   "outputs": [],
   "source": [
    "tree = DecisionTreeClassifier(criterion='gini',max_depth=None).fit(boot_data_x, boot_data_y)"
   ]
  },
  {
   "cell_type": "code",
   "execution_count": 473,
   "metadata": {},
   "outputs": [
    {
     "data": {
      "text/plain": [
       "66"
      ]
     },
     "execution_count": 473,
     "metadata": {},
     "output_type": "execute_result"
    }
   ],
   "source": [
    "out_of_bag = pd.DataFrame(columns=data_wine_x.columns)\n",
    "for x in data_wine.index:\n",
    "    if x not in boot_data.index:\n",
    "        out_of_bag = out_of_bag.append(data_wine.iloc[x])\n",
    "        #print(data_wine.iloc[x,:])\n",
    "len(out_of_bag)"
   ]
  },
  {
   "cell_type": "code",
   "execution_count": 474,
   "metadata": {},
   "outputs": [],
   "source": [
    "out_of_bag_x = out_of_bag.iloc[:,:-1]\n",
    "out_of_bag_y = out_of_bag.iloc[:,-1:]"
   ]
  },
  {
   "cell_type": "code",
   "execution_count": 475,
   "metadata": {},
   "outputs": [
    {
     "data": {
      "text/html": [
       "<div>\n",
       "<style scoped>\n",
       "    .dataframe tbody tr th:only-of-type {\n",
       "        vertical-align: middle;\n",
       "    }\n",
       "\n",
       "    .dataframe tbody tr th {\n",
       "        vertical-align: top;\n",
       "    }\n",
       "\n",
       "    .dataframe thead th {\n",
       "        text-align: right;\n",
       "    }\n",
       "</style>\n",
       "<table border=\"1\" class=\"dataframe\">\n",
       "  <thead>\n",
       "    <tr style=\"text-align: right;\">\n",
       "      <th></th>\n",
       "      <th>Alcohol</th>\n",
       "      <th>Malic_Acid</th>\n",
       "      <th>Ash</th>\n",
       "      <th>Ash_Alcanity</th>\n",
       "      <th>Magnesium</th>\n",
       "      <th>Total_Phenols</th>\n",
       "      <th>Flavanoids</th>\n",
       "      <th>Nonflavanoid_Phenols</th>\n",
       "      <th>Proanthocyanins</th>\n",
       "      <th>Color_Intensity</th>\n",
       "      <th>Hue</th>\n",
       "      <th>OD280</th>\n",
       "      <th>Proline</th>\n",
       "    </tr>\n",
       "  </thead>\n",
       "  <tbody>\n",
       "    <tr>\n",
       "      <th>2</th>\n",
       "      <td>13.16</td>\n",
       "      <td>2.36</td>\n",
       "      <td>2.67</td>\n",
       "      <td>18.6</td>\n",
       "      <td>101.0</td>\n",
       "      <td>2.80</td>\n",
       "      <td>3.24</td>\n",
       "      <td>0.30</td>\n",
       "      <td>2.81</td>\n",
       "      <td>5.68</td>\n",
       "      <td>1.03</td>\n",
       "      <td>3.17</td>\n",
       "      <td>1185.0</td>\n",
       "    </tr>\n",
       "    <tr>\n",
       "      <th>3</th>\n",
       "      <td>14.37</td>\n",
       "      <td>1.95</td>\n",
       "      <td>2.50</td>\n",
       "      <td>16.8</td>\n",
       "      <td>113.0</td>\n",
       "      <td>3.85</td>\n",
       "      <td>3.49</td>\n",
       "      <td>0.24</td>\n",
       "      <td>2.18</td>\n",
       "      <td>7.80</td>\n",
       "      <td>0.86</td>\n",
       "      <td>3.45</td>\n",
       "      <td>1480.0</td>\n",
       "    </tr>\n",
       "    <tr>\n",
       "      <th>4</th>\n",
       "      <td>13.24</td>\n",
       "      <td>2.59</td>\n",
       "      <td>2.87</td>\n",
       "      <td>21.0</td>\n",
       "      <td>118.0</td>\n",
       "      <td>2.80</td>\n",
       "      <td>2.69</td>\n",
       "      <td>0.39</td>\n",
       "      <td>1.82</td>\n",
       "      <td>4.32</td>\n",
       "      <td>1.04</td>\n",
       "      <td>2.93</td>\n",
       "      <td>735.0</td>\n",
       "    </tr>\n",
       "    <tr>\n",
       "      <th>6</th>\n",
       "      <td>14.39</td>\n",
       "      <td>1.87</td>\n",
       "      <td>2.45</td>\n",
       "      <td>14.6</td>\n",
       "      <td>96.0</td>\n",
       "      <td>2.50</td>\n",
       "      <td>2.52</td>\n",
       "      <td>0.30</td>\n",
       "      <td>1.98</td>\n",
       "      <td>5.25</td>\n",
       "      <td>1.02</td>\n",
       "      <td>3.58</td>\n",
       "      <td>1290.0</td>\n",
       "    </tr>\n",
       "    <tr>\n",
       "      <th>10</th>\n",
       "      <td>14.10</td>\n",
       "      <td>2.16</td>\n",
       "      <td>2.30</td>\n",
       "      <td>18.0</td>\n",
       "      <td>105.0</td>\n",
       "      <td>2.95</td>\n",
       "      <td>3.32</td>\n",
       "      <td>0.22</td>\n",
       "      <td>2.38</td>\n",
       "      <td>5.75</td>\n",
       "      <td>1.25</td>\n",
       "      <td>3.17</td>\n",
       "      <td>1510.0</td>\n",
       "    </tr>\n",
       "  </tbody>\n",
       "</table>\n",
       "</div>"
      ],
      "text/plain": [
       "    Alcohol  Malic_Acid   Ash  Ash_Alcanity  Magnesium  Total_Phenols  \\\n",
       "2     13.16        2.36  2.67          18.6      101.0           2.80   \n",
       "3     14.37        1.95  2.50          16.8      113.0           3.85   \n",
       "4     13.24        2.59  2.87          21.0      118.0           2.80   \n",
       "6     14.39        1.87  2.45          14.6       96.0           2.50   \n",
       "10    14.10        2.16  2.30          18.0      105.0           2.95   \n",
       "\n",
       "    Flavanoids  Nonflavanoid_Phenols  Proanthocyanins  Color_Intensity   Hue  \\\n",
       "2         3.24                  0.30             2.81             5.68  1.03   \n",
       "3         3.49                  0.24             2.18             7.80  0.86   \n",
       "4         2.69                  0.39             1.82             4.32  1.04   \n",
       "6         2.52                  0.30             1.98             5.25  1.02   \n",
       "10        3.32                  0.22             2.38             5.75  1.25   \n",
       "\n",
       "    OD280  Proline  \n",
       "2    3.17   1185.0  \n",
       "3    3.45   1480.0  \n",
       "4    2.93    735.0  \n",
       "6    3.58   1290.0  \n",
       "10   3.17   1510.0  "
      ]
     },
     "execution_count": 475,
     "metadata": {},
     "output_type": "execute_result"
    }
   ],
   "source": [
    "out_of_bag_x.head()"
   ]
  },
  {
   "cell_type": "code",
   "execution_count": 476,
   "metadata": {},
   "outputs": [],
   "source": [
    "y_pred_test = tree.predict(out_of_bag_x)\n",
    "y_pred_train = tree.predict(boot_data_x)\n"
   ]
  },
  {
   "cell_type": "code",
   "execution_count": 478,
   "metadata": {},
   "outputs": [
    {
     "name": "stdout",
     "output_type": "stream",
     "text": [
      "0.9090909090909091\n",
      "1.0\n"
     ]
    }
   ],
   "source": [
    "print(accuracy_score(out_of_bag_y, y_pred_test))\n",
    "print(accuracy_score(boot_data_y, y_pred_train))"
   ]
  },
  {
   "cell_type": "markdown",
   "metadata": {},
   "source": [
    "#####  K-Fold"
   ]
  },
  {
   "cell_type": "code",
   "execution_count": 53,
   "metadata": {},
   "outputs": [],
   "source": [
    "def cross_validate_trees(kf,data_x,data_y,criterio,depth=None,tree_type='Classifier',random=None):\n",
    "    scores_train= []\n",
    "    scores_test= []\n",
    "\n",
    "    acc_train = []\n",
    "    acc_test = []\n",
    "    #auc_train = []\n",
    "    #auc_test = []\n",
    "    \n",
    "    y_pred_train = []\n",
    "    y_pred_test = []\n",
    "    mse_train = []\n",
    "    mse_test = []\n",
    "    mae_train = []\n",
    "    mae_test = []\n",
    "    \n",
    "    for train_idx, test_idx in kf.split(data_x):\n",
    "        X_train, X_test = data_x.iloc[train_idx], data_x.iloc[test_idx] \n",
    "        y_train, y_test = data_y.iloc[train_idx], data_y.iloc[test_idx]\n",
    "        if tree_type=='Classifier':\n",
    "            tree = DecisionTreeClassifier(criterion=criterio,max_depth=depth, random_state=random)\n",
    "            tree.fit(X_train, y_train)\n",
    "            y_pred_train = tree.predict(X_train)\n",
    "            y_pred_test = tree.predict(X_test)\n",
    "            acc_test.append(accuracy_score(y_test, y_pred_test))\n",
    "            acc_train.append(accuracy_score(y_train, y_pred_train))\n",
    "            #auc_train.append(roc_auc_score(y_train, y_pred_train))\n",
    "            #auc_test.append(roc_auc_score(y_test, y_pred_test))\n",
    "            \n",
    "        else:\n",
    "            tree = DecisionTreeRegressor(criterion=criterio,max_depth=depth,random_state=random)\n",
    "            tree.fit(X_train, y_train)\n",
    "            y_pred_train = tree.predict(X_train)\n",
    "            y_pred_test = tree.predict(X_test)\n",
    "            scores_test.append(tree.score(X_test,y_test))\n",
    "            scores_train.append(tree.score(X_train,y_train))\n",
    "            mse_train.append(metrics.mean_squared_error(y_train,y_pred_train))\n",
    "            mse_test.append(metrics.mean_squared_error(y_test,y_pred_test))\n",
    "            mae_train.append(metrics.mean_absolute_error(y_train,y_pred_train))\n",
    "            mae_test.append(metrics.mean_absolute_error(y_test,y_pred_test))\n",
    "            \n",
    "    \n",
    "    if tree_type=='Classifier':\n",
    "        print(\"TRAIN :\")\n",
    "        print('Accuracy List Train: ', acc_train)\n",
    "        print('Accuracy Mean', np.mean(acc_train))\n",
    "        print(\"TEST :\")\n",
    "        print('Accuracy List Train: ', acc_test)\n",
    "        print('Accuracy Mean', np.mean(acc_test))\n",
    "    else:\n",
    "        print(\"TEST :\")\n",
    "        print('R2 Test: ', scores_test)\n",
    "        print('Media R2 Test Set: ',np.mean(scores_test))\n",
    "        print('MSE Test: ', mse_test)\n",
    "        print(\"Mean MSE: \", np.mean(mse_test))\n",
    "        print(\"Root Mean MSE: \", math.sqrt(np.mean(mse_test)))\n",
    "        print('MAE Test: ', mae_test)\n",
    "        print(\"Mean MAE: \", np.mean(mae_test))\n",
    "        print(\"Root Mean MAE: \", math.sqrt(np.mean(mae_test)))\n",
    "\n",
    "        print(\"\\n\")\n",
    "\n",
    "        print(\"TRAIN :\")\n",
    "        print('R2 Train: ',scores_train)\n",
    "        print('Media R2 Train Set: ',np.mean(scores_train))\n",
    "        print('MSE Train: ', mse_train)\n",
    "        print(\"Mean MSE: \", np.mean(mse_train))\n",
    "        print(\"Root Mean MSE: \", math.sqrt(np.mean(mse_train)))\n",
    "        print('MAE Train: ', mae_train)\n",
    "        print(\"Mean MAE: \", np.mean(mae_train))\n",
    "        print(\"Root Mean MAE: \", math.sqrt(np.mean(mae_train)))\n",
    "    #y_pred_test = tree.predict(X_test)\n",
    "    #y_pred_train = tree.predict(X_train)\n",
    "\n",
    "    #Score on Classifier is Mean Accuracy , and R2 on Regressor\n",
    "    \n",
    "    \n",
    "    #print(\"Train: \", train_idx)\n",
    "    #print(\"Test: \", test_idx)"
   ]
  },
  {
   "cell_type": "code",
   "execution_count": 47,
   "metadata": {},
   "outputs": [
    {
     "name": "stdout",
     "output_type": "stream",
     "text": [
      "TEST :\n",
      "R2 Test:  [1.0, 0.6814159292035398, 0.9150943396226415, 0.2941176470588235, 0.7428571428571429, 0.9, 1.0, 1.0, 0.3376623376623378, 1.0]\n",
      "Media R2 Test Set:  0.7871147396404485\n",
      "MSE Test:  [0.0, 0.1111111111111111, 0.05555555555555555, 0.3333333333333333, 0.1111111111111111, 0.05555555555555555, 0.0, 0.0, 0.35294117647058826, 0.0]\n",
      "Mean MSE:  0.10196078431372549\n",
      "Root Mean MSE:  0.31931298801289854\n",
      "MAE Test:  [0.0, 0.1111111111111111, 0.05555555555555555, 0.2222222222222222, 0.1111111111111111, 0.05555555555555555, 0.0, 0.0, 0.23529411764705882, 0.0]\n",
      "Mean MSE:  0.07908496732026145\n",
      "Root Mean MAE:  0.28122049591070253\n",
      "\n",
      "\n",
      "TRAIN :\n",
      "R2 Train:  [1.0, 1.0, 1.0, 1.0, 1.0, 1.0, 1.0, 1.0, 1.0, 1.0]\n",
      "Media R2 Train Set:  1.0\n",
      "MSE Train:  [0.0, 0.0, 0.0, 0.0, 0.0, 0.0, 0.0, 0.0, 0.0, 0.0]\n",
      "Mean MSE:  0.0\n",
      "Root Mean MSE:  0.0\n",
      "MAE Train:  [0.0, 0.0, 0.0, 0.0, 0.0, 0.0, 0.0, 0.0, 0.0, 0.0]\n",
      "Mean MAE:  0.0\n",
      "Root Mean MAE:  0.0\n"
     ]
    },
    {
     "data": {
      "text/plain": [
       "0.7871147396404485"
      ]
     },
     "execution_count": 47,
     "metadata": {},
     "output_type": "execute_result"
    }
   ],
   "source": [
    "kf = KFold(n_splits=10,shuffle=True,random_state=0)\n",
    "cross_validate_trees(kf,data_wine_x,data_wine_y,criterio='mse',tree_type='Regressor')\n",
    "#cross_validate_trees(kf,data_wine_x,data_wine_y,criterio='gini',tree_type='Classifier')\n",
    "\n",
    "tree = DecisionTreeRegressor(criterion='mse',max_depth=None,random_state=0)\n",
    "#tree = DecisionTreeClassifier(criterion='gini',max_depth=None,random_state=0)\n",
    "\n",
    "np.mean(cross_val_score(tree, data_wine_x, data_wine_y, cv=kf))"
   ]
  },
  {
   "cell_type": "code",
   "execution_count": 25,
   "metadata": {},
   "outputs": [],
   "source": [
    "\n",
    "#cross_validate_trees(kf,data_wine_x,data_wine_y,criterio='gini')\n",
    "cross_validate_trees(kf,data_wine_x,data_wine_y,criterio='mse',tree_type='Regressor')"
   ]
  },
  {
   "cell_type": "code",
   "execution_count": 31,
   "metadata": {},
   "outputs": [
    {
     "data": {
      "text/plain": [
       "0.9361542083810438"
      ]
     },
     "execution_count": 31,
     "metadata": {},
     "output_type": "execute_result"
    }
   ],
   "source": [
    "tree = DecisionTreeRegressor(criterion='mse',max_depth=None)\n",
    "np.mean(cross_val_score(tree, data_wine_x, data_wine_y, cv=kf))"
   ]
  },
  {
   "cell_type": "markdown",
   "metadata": {},
   "source": [
    "#### Leave-One-Out"
   ]
  },
  {
   "cell_type": "code",
   "execution_count": null,
   "metadata": {},
   "outputs": [],
   "source": [
    "loo = LeaveOneOut()\n",
    "cross_validate_trees(loo,data_wine_x,data_wine_y,criterio='mse',tree_type='Regressor')\n",
    "tree = DecisionTreeRegressor(criterion='mse',max_depth=None)\n"
   ]
  },
  {
   "cell_type": "code",
   "execution_count": 174,
   "metadata": {},
   "outputs": [
    {
     "name": "stdout",
     "output_type": "stream",
     "text": [
      "Int64Index([177], dtype='int64')\n"
     ]
    }
   ],
   "source": [
    "print(X_test.index)"
   ]
  },
  {
   "cell_type": "code",
   "execution_count": 170,
   "metadata": {},
   "outputs": [],
   "source": [
    "tree.fit(X_train, y_train)\n",
    "y_pred_test = tree.predict(X_test)\n",
    "y_pred_train = tree.predict(X_train)"
   ]
  },
  {
   "cell_type": "markdown",
   "metadata": {},
   "source": [
    "### Classification Metrics"
   ]
  },
  {
   "cell_type": "code",
   "execution_count": 199,
   "metadata": {},
   "outputs": [
    {
     "name": "stdout",
     "output_type": "stream",
     "text": [
      "['1', '2', '3']\n",
      "             precision    recall  f1-score   support\n",
      "\n",
      "          1       1.00      1.00      1.00        16\n",
      "          2       0.95      1.00      0.98        20\n",
      "          3       1.00      0.89      0.94         9\n",
      "\n",
      "avg / total       0.98      0.98      0.98        45\n",
      "\n"
     ]
    }
   ],
   "source": [
    "targets = [] \n",
    "for i in data_wine.iloc[:,-1].unique():\n",
    "    targets.append(str(i))\n",
    "print(targets)\n",
    "print(metrics.classification_report(y_pred_test, y_test, target_names=targets))"
   ]
  },
  {
   "cell_type": "markdown",
   "metadata": {},
   "source": [
    "####  Confusion Matrix"
   ]
  },
  {
   "cell_type": "code",
   "execution_count": 197,
   "metadata": {},
   "outputs": [
    {
     "name": "stdout",
     "output_type": "stream",
     "text": [
      "[[16  0  0]\n",
      " [ 0 20  1]\n",
      " [ 0  0  8]]\n",
      "[[43  0  0]\n",
      " [ 0 50  0]\n",
      " [ 0  0 40]]\n"
     ]
    }
   ],
   "source": [
    "print(confusion_matrix(y_test, y_pred_test))\n",
    "print(confusion_matrix(y_train, y_pred_train))"
   ]
  },
  {
   "cell_type": "code",
   "execution_count": 147,
   "metadata": {
    "collapsed": true
   },
   "outputs": [
    {
     "ename": "ValueError",
     "evalue": "too many values to unpack (expected 4)",
     "output_type": "error",
     "traceback": [
      "\u001b[1;31m---------------------------------------------------------------------------\u001b[0m",
      "\u001b[1;31mValueError\u001b[0m                                Traceback (most recent call last)",
      "\u001b[1;32m<ipython-input-147-2c6e7eb77f7f>\u001b[0m in \u001b[0;36m<module>\u001b[1;34m()\u001b[0m\n\u001b[1;32m----> 1\u001b[1;33m \u001b[0mtn\u001b[0m\u001b[1;33m,\u001b[0m \u001b[0mfp\u001b[0m\u001b[1;33m,\u001b[0m \u001b[0mfn\u001b[0m\u001b[1;33m,\u001b[0m \u001b[0mtp\u001b[0m \u001b[1;33m=\u001b[0m \u001b[0mconfusion_matrix\u001b[0m\u001b[1;33m(\u001b[0m\u001b[0my_test2\u001b[0m\u001b[1;33m,\u001b[0m \u001b[0my_pred\u001b[0m\u001b[1;33m)\u001b[0m\u001b[1;33m.\u001b[0m\u001b[0mravel\u001b[0m\u001b[1;33m(\u001b[0m\u001b[1;33m)\u001b[0m\u001b[1;33m\u001b[0m\u001b[0m\n\u001b[0m",
      "\u001b[1;31mValueError\u001b[0m: too many values to unpack (expected 4)"
     ]
    }
   ],
   "source": [
    "tn, fp, fn, tp = confusion_matrix(y_test, y_pred).ravel()\n"
   ]
  },
  {
   "cell_type": "code",
   "execution_count": 148,
   "metadata": {},
   "outputs": [
    {
     "data": {
      "text/plain": [
       "(0, 0, 1, 16)"
      ]
     },
     "execution_count": 148,
     "metadata": {},
     "output_type": "execute_result"
    }
   ],
   "source": [
    "(tn,fp,fn,tp)"
   ]
  },
  {
   "cell_type": "markdown",
   "metadata": {},
   "source": [
    "###  Accuracy: Nao usar em classes desbalanceadas"
   ]
  },
  {
   "cell_type": "code",
   "execution_count": 198,
   "metadata": {},
   "outputs": [
    {
     "name": "stdout",
     "output_type": "stream",
     "text": [
      "0.9777777777777777\n",
      "1.0\n"
     ]
    }
   ],
   "source": [
    "print(accuracy_score(y_test, y_pred_test))\n",
    "print(accuracy_score(y_train, y_pred_train))"
   ]
  },
  {
   "cell_type": "markdown",
   "metadata": {},
   "source": [
    "####  AUC"
   ]
  },
  {
   "cell_type": "code",
   "execution_count": null,
   "metadata": {},
   "outputs": [],
   "source": [
    "print(roc_auc_score(y_train, y_pred_train))\n",
    "print(roc_auc_score(y_test, y_pred_test))"
   ]
  },
  {
   "cell_type": "code",
   "execution_count": null,
   "metadata": {},
   "outputs": [],
   "source": [
    "print(\"Gini: \", (2*roc_auc_score(y_train, y_pred_train)-1))"
   ]
  },
  {
   "cell_type": "code",
   "execution_count": 150,
   "metadata": {
    "scrolled": true
   },
   "outputs": [
    {
     "name": "stdout",
     "output_type": "stream",
     "text": [
      "\n",
      " [1 2 3]\n",
      "\n",
      " 1\n",
      "\n",
      " 13\n",
      "\n",
      " [0.         0.00350003 0.         0.         0.03668609 0.01586269\n",
      " 0.38849012 0.         0.         0.06729515 0.01843581 0.05195547\n",
      " 0.41777464]\n"
     ]
    }
   ],
   "source": [
    "print('\\n',tree.classes_)\n",
    "print('\\n',tree.n_outputs_)\n",
    "print('\\n',tree.n_features_)\n",
    "print('\\n',tree.feature_importances_)"
   ]
  },
  {
   "cell_type": "markdown",
   "metadata": {},
   "source": [
    "# DecisionTree Regressor"
   ]
  },
  {
   "cell_type": "code",
   "execution_count": 271,
   "metadata": {},
   "outputs": [],
   "source": [
    "data_wine_x_2 = pd.concat([data_wine.iloc[:,:-5],data_wine.iloc[:,-4:]],axis=1,sort=False)\n",
    "data_wine_y_2 = data_wine.iloc[:,-5]"
   ]
  },
  {
   "cell_type": "code",
   "execution_count": 274,
   "metadata": {},
   "outputs": [
    {
     "data": {
      "text/plain": [
       "0    5.64\n",
       "1    4.38\n",
       "2    5.68\n",
       "3    7.80\n",
       "4    4.32\n",
       "Name: Color_Intensity, dtype: float64"
      ]
     },
     "execution_count": 274,
     "metadata": {},
     "output_type": "execute_result"
    }
   ],
   "source": [
    "data_wine_y_2.head()"
   ]
  },
  {
   "cell_type": "code",
   "execution_count": 404,
   "metadata": {},
   "outputs": [
    {
     "name": "stdout",
     "output_type": "stream",
     "text": [
      "R2 Train:  1.0\n",
      "MSE Train:  0.0\n",
      "RMSE Train:  0.0\n",
      "MAE Train:  0.0\n",
      "\n",
      "R2 Test:  0.7426187641064335\n",
      "MSE Test:  1.4834399999999996\n",
      "RMSE Test:  1.2179655167532453\n",
      "MAE Test:  0.8586666666666667\n"
     ]
    }
   ],
   "source": [
    "tree = DecisionTreeRegressor(criterion='mse',max_depth=None)\n",
    "X_train, X_test, y_train, y_test = train_test_split(data_wine_x_2, data_wine_y_2, test_size=0.25)\n",
    "tree.fit(X_train,y_train)\n",
    "y_pred_train = tree.predict(X_train)\n",
    "y_pred_test = tree.predict(X_test)\n",
    "mse_train = metrics.mean_squared_error(y_train,y_pred_train)\n",
    "mse_test = metrics.mean_squared_error(y_test,y_pred_test)\n",
    "mae_train = metrics.mean_absolute_error(y_train,y_pred_train)\n",
    "mae_test = metrics.mean_absolute_error(y_test,y_pred_test)\n",
    "\n",
    "print(\"R2 Train: \",tree.score(X_train,y_train))\n",
    "print('MSE Train: ', mse_train)\n",
    "print('RMSE Train: ', math.sqrt(mse_train))\n",
    "print('MAE Train: ', mae_train)\n",
    "print(\"\\nR2 Test: \",tree.score(X_test,y_test))\n",
    "print('MSE Test: ', mse_test)\n",
    "print('RMSE Test: ', math.sqrt(mse_test))\n",
    "print('MAE Test: ', mae_test)"
   ]
  },
  {
   "cell_type": "markdown",
   "metadata": {},
   "source": [
    "# Random Forests "
   ]
  },
  {
   "cell_type": "markdown",
   "metadata": {},
   "source": [
    "#### Classifier"
   ]
  },
  {
   "cell_type": "code",
   "execution_count": 410,
   "metadata": {},
   "outputs": [
    {
     "name": "stderr",
     "output_type": "stream",
     "text": [
      "C:\\ProgramData\\Anaconda3\\lib\\site-packages\\sklearn\\utils\\validation.py:578: DataConversionWarning: A column-vector y was passed when a 1d array was expected. Please change the shape of y to (n_samples, ), for example using ravel().\n",
      "  y = column_or_1d(y, warn=True)\n"
     ]
    },
    {
     "name": "stdout",
     "output_type": "stream",
     "text": [
      "1.0\n",
      "0.9777777777777777\n"
     ]
    }
   ],
   "source": [
    "\n",
    "tree = DecisionTreeClassifier()\n",
    "bag = BaggingClassifier(tree, n_estimators=100, max_samples=0.8,\n",
    "                        random_state=1)\n",
    "\n",
    "X_train, X_test, y_train, y_test = train_test_split(data_wine_x, data_wine_y, test_size=0.25)\n",
    "\n",
    "bag.fit(X_train, y_train)\n",
    "print(bag.score(X_train,y_train))\n",
    "print(bag.score(X_test,y_test))"
   ]
  },
  {
   "cell_type": "markdown",
   "metadata": {},
   "source": [
    "####  Regressor"
   ]
  },
  {
   "cell_type": "code",
   "execution_count": 413,
   "metadata": {},
   "outputs": [
    {
     "name": "stdout",
     "output_type": "stream",
     "text": [
      "R2 Train:  0.9446592842613787\n",
      "MSE Train:  0.3041478782825384\n",
      "RMSE Train:  0.5514960365066447\n",
      "MAE Train:  0.383116162556391\n",
      "\n",
      "R2 Test:  0.862394679981636\n",
      "MSE Test:  0.6076448023623018\n",
      "RMSE Test:  0.7795157486300721\n",
      "MAE Test:  0.5737755520000009\n"
     ]
    }
   ],
   "source": [
    "X_train, X_test, y_train, y_test = train_test_split(data_wine_x_2, data_wine_y_2, test_size=0.25)\n",
    "\n",
    "forest = RandomForestRegressor(200)\n",
    "forest.fit(X_train, y_train)\n",
    "\n",
    "y_pred_train = forest.predict(X_train)\n",
    "y_pred_test = forest.predict(X_test)\n",
    "mse_train = metrics.mean_squared_error(y_train,y_pred_train)\n",
    "mse_test = metrics.mean_squared_error(y_test,y_pred_test)\n",
    "mae_train = metrics.mean_absolute_error(y_train,y_pred_train)\n",
    "mae_test = metrics.mean_absolute_error(y_test,y_pred_test)\n",
    "\n",
    "print(\"R2 Train: \",forest.score(X_train,y_train))\n",
    "print('MSE Train: ', mse_train)\n",
    "print('RMSE Train: ', math.sqrt(mse_train))\n",
    "print('MAE Train: ', mae_train)\n",
    "print(\"\\nR2 Test: \",forest.score(X_test,y_test))\n",
    "print('MSE Test: ', mse_test)\n",
    "print('RMSE Test: ', math.sqrt(mse_test))\n",
    "print('MAE Test: ', mae_test)\n"
   ]
  },
  {
   "cell_type": "code",
   "execution_count": null,
   "metadata": {},
   "outputs": [],
   "source": [
    "from sklearn.metrics import confusion_matrix\n",
    "mat = confusion_matrix(y_test, y_pred_test)\n",
    "sns.heatmap(mat.T, square=True, annot=True, fmt='d', cbar=False)\n",
    "plt.xlabel('true label')\n",
    "plt.ylabel('predicted label');"
   ]
  },
  {
   "cell_type": "markdown",
   "metadata": {},
   "source": [
    "#### Regressao q7"
   ]
  },
  {
   "cell_type": "code",
   "execution_count": 48,
   "metadata": {},
   "outputs": [
    {
     "data": {
      "text/html": [
       "<div>\n",
       "<style scoped>\n",
       "    .dataframe tbody tr th:only-of-type {\n",
       "        vertical-align: middle;\n",
       "    }\n",
       "\n",
       "    .dataframe tbody tr th {\n",
       "        vertical-align: top;\n",
       "    }\n",
       "\n",
       "    .dataframe thead th {\n",
       "        text-align: right;\n",
       "    }\n",
       "</style>\n",
       "<table border=\"1\" class=\"dataframe\">\n",
       "  <thead>\n",
       "    <tr style=\"text-align: right;\">\n",
       "      <th></th>\n",
       "      <th>x0</th>\n",
       "      <th>x1</th>\n",
       "      <th>x2</th>\n",
       "      <th>x3</th>\n",
       "      <th>x4</th>\n",
       "      <th>x5</th>\n",
       "      <th>x6</th>\n",
       "      <th>x7</th>\n",
       "      <th>x8</th>\n",
       "      <th>x9</th>\n",
       "      <th>...</th>\n",
       "      <th>x11</th>\n",
       "      <th>x12</th>\n",
       "      <th>x13</th>\n",
       "      <th>x14</th>\n",
       "      <th>x15</th>\n",
       "      <th>x16</th>\n",
       "      <th>x17</th>\n",
       "      <th>x18</th>\n",
       "      <th>x19</th>\n",
       "      <th>target</th>\n",
       "    </tr>\n",
       "  </thead>\n",
       "  <tbody>\n",
       "    <tr>\n",
       "      <th>0</th>\n",
       "      <td>0.591690</td>\n",
       "      <td>0.591690</td>\n",
       "      <td>1.172172</td>\n",
       "      <td>-0.983677</td>\n",
       "      <td>-1.723861</td>\n",
       "      <td>-1.872732</td>\n",
       "      <td>1.070023</td>\n",
       "      <td>-0.623034</td>\n",
       "      <td>1.705102</td>\n",
       "      <td>2.643913</td>\n",
       "      <td>...</td>\n",
       "      <td>2.643913</td>\n",
       "      <td>-0.623034</td>\n",
       "      <td>2.643913</td>\n",
       "      <td>-1.191899</td>\n",
       "      <td>0.523268</td>\n",
       "      <td>1.599678</td>\n",
       "      <td>0.228014</td>\n",
       "      <td>0.636366</td>\n",
       "      <td>1.070023</td>\n",
       "      <td>183.381979</td>\n",
       "    </tr>\n",
       "    <tr>\n",
       "      <th>1</th>\n",
       "      <td>0.617718</td>\n",
       "      <td>0.617718</td>\n",
       "      <td>1.066885</td>\n",
       "      <td>-0.994460</td>\n",
       "      <td>-1.660279</td>\n",
       "      <td>-2.006098</td>\n",
       "      <td>0.800897</td>\n",
       "      <td>-0.150230</td>\n",
       "      <td>1.601513</td>\n",
       "      <td>2.227607</td>\n",
       "      <td>...</td>\n",
       "      <td>2.227607</td>\n",
       "      <td>-0.150230</td>\n",
       "      <td>2.227607</td>\n",
       "      <td>-1.389668</td>\n",
       "      <td>0.946524</td>\n",
       "      <td>1.427928</td>\n",
       "      <td>0.327064</td>\n",
       "      <td>0.605663</td>\n",
       "      <td>0.800897</td>\n",
       "      <td>171.166244</td>\n",
       "    </tr>\n",
       "    <tr>\n",
       "      <th>2</th>\n",
       "      <td>-0.091250</td>\n",
       "      <td>-0.091250</td>\n",
       "      <td>0.460780</td>\n",
       "      <td>-2.076651</td>\n",
       "      <td>-2.903264</td>\n",
       "      <td>-3.110400</td>\n",
       "      <td>-0.361113</td>\n",
       "      <td>-2.029327</td>\n",
       "      <td>0.320967</td>\n",
       "      <td>1.514848</td>\n",
       "      <td>...</td>\n",
       "      <td>1.514848</td>\n",
       "      <td>-2.029327</td>\n",
       "      <td>1.514848</td>\n",
       "      <td>-2.855408</td>\n",
       "      <td>-0.856214</td>\n",
       "      <td>0.329120</td>\n",
       "      <td>-1.001805</td>\n",
       "      <td>-0.826144</td>\n",
       "      <td>-0.361113</td>\n",
       "      <td>-310.459284</td>\n",
       "    </tr>\n",
       "    <tr>\n",
       "      <th>3</th>\n",
       "      <td>-0.264834</td>\n",
       "      <td>-0.264834</td>\n",
       "      <td>1.061765</td>\n",
       "      <td>-0.539020</td>\n",
       "      <td>-0.972137</td>\n",
       "      <td>-1.102153</td>\n",
       "      <td>1.198790</td>\n",
       "      <td>-0.534910</td>\n",
       "      <td>2.272581</td>\n",
       "      <td>2.748045</td>\n",
       "      <td>...</td>\n",
       "      <td>2.748045</td>\n",
       "      <td>-0.534910</td>\n",
       "      <td>2.748045</td>\n",
       "      <td>-0.306130</td>\n",
       "      <td>1.134861</td>\n",
       "      <td>1.905080</td>\n",
       "      <td>0.998317</td>\n",
       "      <td>0.916976</td>\n",
       "      <td>1.198790</td>\n",
       "      <td>228.015980</td>\n",
       "    </tr>\n",
       "    <tr>\n",
       "      <th>4</th>\n",
       "      <td>0.308724</td>\n",
       "      <td>0.308724</td>\n",
       "      <td>0.793572</td>\n",
       "      <td>-1.162892</td>\n",
       "      <td>-2.315907</td>\n",
       "      <td>-2.436588</td>\n",
       "      <td>0.038154</td>\n",
       "      <td>-1.335393</td>\n",
       "      <td>1.586416</td>\n",
       "      <td>1.898164</td>\n",
       "      <td>...</td>\n",
       "      <td>1.898164</td>\n",
       "      <td>-1.335393</td>\n",
       "      <td>1.898164</td>\n",
       "      <td>-2.222185</td>\n",
       "      <td>-0.049834</td>\n",
       "      <td>0.930992</td>\n",
       "      <td>0.196569</td>\n",
       "      <td>-0.607837</td>\n",
       "      <td>0.038154</td>\n",
       "      <td>-51.379428</td>\n",
       "    </tr>\n",
       "  </tbody>\n",
       "</table>\n",
       "<p>5 rows × 21 columns</p>\n",
       "</div>"
      ],
      "text/plain": [
       "         x0        x1        x2        x3        x4        x5        x6  \\\n",
       "0  0.591690  0.591690  1.172172 -0.983677 -1.723861 -1.872732  1.070023   \n",
       "1  0.617718  0.617718  1.066885 -0.994460 -1.660279 -2.006098  0.800897   \n",
       "2 -0.091250 -0.091250  0.460780 -2.076651 -2.903264 -3.110400 -0.361113   \n",
       "3 -0.264834 -0.264834  1.061765 -0.539020 -0.972137 -1.102153  1.198790   \n",
       "4  0.308724  0.308724  0.793572 -1.162892 -2.315907 -2.436588  0.038154   \n",
       "\n",
       "         x7        x8        x9     ...           x11       x12       x13  \\\n",
       "0 -0.623034  1.705102  2.643913     ...      2.643913 -0.623034  2.643913   \n",
       "1 -0.150230  1.601513  2.227607     ...      2.227607 -0.150230  2.227607   \n",
       "2 -2.029327  0.320967  1.514848     ...      1.514848 -2.029327  1.514848   \n",
       "3 -0.534910  2.272581  2.748045     ...      2.748045 -0.534910  2.748045   \n",
       "4 -1.335393  1.586416  1.898164     ...      1.898164 -1.335393  1.898164   \n",
       "\n",
       "        x14       x15       x16       x17       x18       x19      target  \n",
       "0 -1.191899  0.523268  1.599678  0.228014  0.636366  1.070023  183.381979  \n",
       "1 -1.389668  0.946524  1.427928  0.327064  0.605663  0.800897  171.166244  \n",
       "2 -2.855408 -0.856214  0.329120 -1.001805 -0.826144 -0.361113 -310.459284  \n",
       "3 -0.306130  1.134861  1.905080  0.998317  0.916976  1.198790  228.015980  \n",
       "4 -2.222185 -0.049834  0.930992  0.196569 -0.607837  0.038154  -51.379428  \n",
       "\n",
       "[5 rows x 21 columns]"
      ]
     },
     "execution_count": 48,
     "metadata": {},
     "output_type": "execute_result"
    }
   ],
   "source": [
    "dataset2 = pd.read_csv('regressao_Q7.csv')\n",
    "dataset2.head()"
   ]
  },
  {
   "cell_type": "code",
   "execution_count": 49,
   "metadata": {},
   "outputs": [],
   "source": [
    "numeros_x2 = pd.DataFrame()\n",
    "numeros_x2 = dataset2.iloc[:,:-1]"
   ]
  },
  {
   "cell_type": "code",
   "execution_count": 50,
   "metadata": {},
   "outputs": [],
   "source": [
    "numeros_y2 = pd.DataFrame()\n",
    "numeros_y2 = dataset2.iloc[:,-1:]"
   ]
  },
  {
   "cell_type": "code",
   "execution_count": 51,
   "metadata": {},
   "outputs": [
    {
     "data": {
      "text/html": [
       "<div>\n",
       "<style scoped>\n",
       "    .dataframe tbody tr th:only-of-type {\n",
       "        vertical-align: middle;\n",
       "    }\n",
       "\n",
       "    .dataframe tbody tr th {\n",
       "        vertical-align: top;\n",
       "    }\n",
       "\n",
       "    .dataframe thead th {\n",
       "        text-align: right;\n",
       "    }\n",
       "</style>\n",
       "<table border=\"1\" class=\"dataframe\">\n",
       "  <thead>\n",
       "    <tr style=\"text-align: right;\">\n",
       "      <th></th>\n",
       "      <th>target</th>\n",
       "    </tr>\n",
       "  </thead>\n",
       "  <tbody>\n",
       "    <tr>\n",
       "      <th>0</th>\n",
       "      <td>183.381979</td>\n",
       "    </tr>\n",
       "    <tr>\n",
       "      <th>1</th>\n",
       "      <td>171.166244</td>\n",
       "    </tr>\n",
       "    <tr>\n",
       "      <th>2</th>\n",
       "      <td>-310.459284</td>\n",
       "    </tr>\n",
       "    <tr>\n",
       "      <th>3</th>\n",
       "      <td>228.015980</td>\n",
       "    </tr>\n",
       "    <tr>\n",
       "      <th>4</th>\n",
       "      <td>-51.379428</td>\n",
       "    </tr>\n",
       "  </tbody>\n",
       "</table>\n",
       "</div>"
      ],
      "text/plain": [
       "       target\n",
       "0  183.381979\n",
       "1  171.166244\n",
       "2 -310.459284\n",
       "3  228.015980\n",
       "4  -51.379428"
      ]
     },
     "execution_count": 51,
     "metadata": {},
     "output_type": "execute_result"
    }
   ],
   "source": [
    "numeros_y2.head()"
   ]
  },
  {
   "cell_type": "code",
   "execution_count": 54,
   "metadata": {},
   "outputs": [
    {
     "name": "stdout",
     "output_type": "stream",
     "text": [
      "TEST :\n",
      "R2 Test:  [0.9786283687857981, 0.9732667336175764, 0.9736170479664252, 0.9758503643661378, 0.9734862738737838, 0.9699559484889912, 0.9744168883895982, 0.9752518944928601, 0.9751581758914714, 0.9784965698768393]\n",
      "Media R2 Test Set:  0.974812826574948\n",
      "MSE Test:  [3744.9506578726246, 4934.818977635756, 4046.357214055435, 4259.849835715209, 4496.796445706725, 4824.517904816067, 4733.396630407888, 4770.35175130713, 4424.804970646506, 4812.772534708487]\n",
      "Mean MSE:  4504.861692287182\n",
      "Root Mean MSE:  67.11826645770272\n",
      "MAE Test:  [47.55691579353984, 54.46190938917477, 49.80214661872973, 52.69622937876313, 53.09693754877917, 54.134411403457676, 53.98507001584543, 51.69462784101646, 51.30294800682745, 54.913026523007126]\n",
      "Mean MSE:  52.364422251914085\n",
      "Root Mean MAE:  7.236326571673924\n",
      "\n",
      "\n",
      "TRAIN :\n",
      "R2 Train:  [1.0, 1.0, 1.0, 1.0, 1.0, 1.0, 1.0, 1.0, 1.0, 1.0]\n",
      "Media R2 Train Set:  1.0\n",
      "MSE Train:  [0.0, 0.0, 0.0, 0.0, 0.0, 0.0, 0.0, 0.0, 0.0, 0.0]\n",
      "Mean MSE:  0.0\n",
      "Root Mean MSE:  0.0\n",
      "MAE Train:  [0.0, 0.0, 0.0, 0.0, 0.0, 0.0, 0.0, 0.0, 0.0, 0.0]\n",
      "Mean MAE:  0.0\n",
      "Root Mean MAE:  0.0\n"
     ]
    },
    {
     "name": "stderr",
     "output_type": "stream",
     "text": [
      "C:\\ProgramData\\Anaconda3\\lib\\site-packages\\sklearn\\metrics\\scorer.py:100: DeprecationWarning: Scoring method mean_absolute_error was renamed to neg_mean_absolute_error in version 0.18 and will be removed in 0.20.\n",
      "  sample_weight=sample_weight)\n",
      "C:\\ProgramData\\Anaconda3\\lib\\site-packages\\sklearn\\metrics\\scorer.py:100: DeprecationWarning: Scoring method mean_absolute_error was renamed to neg_mean_absolute_error in version 0.18 and will be removed in 0.20.\n",
      "  sample_weight=sample_weight)\n",
      "C:\\ProgramData\\Anaconda3\\lib\\site-packages\\sklearn\\metrics\\scorer.py:100: DeprecationWarning: Scoring method mean_absolute_error was renamed to neg_mean_absolute_error in version 0.18 and will be removed in 0.20.\n",
      "  sample_weight=sample_weight)\n",
      "C:\\ProgramData\\Anaconda3\\lib\\site-packages\\sklearn\\metrics\\scorer.py:100: DeprecationWarning: Scoring method mean_absolute_error was renamed to neg_mean_absolute_error in version 0.18 and will be removed in 0.20.\n",
      "  sample_weight=sample_weight)\n",
      "C:\\ProgramData\\Anaconda3\\lib\\site-packages\\sklearn\\metrics\\scorer.py:100: DeprecationWarning: Scoring method mean_absolute_error was renamed to neg_mean_absolute_error in version 0.18 and will be removed in 0.20.\n",
      "  sample_weight=sample_weight)\n",
      "C:\\ProgramData\\Anaconda3\\lib\\site-packages\\sklearn\\metrics\\scorer.py:100: DeprecationWarning: Scoring method mean_absolute_error was renamed to neg_mean_absolute_error in version 0.18 and will be removed in 0.20.\n",
      "  sample_weight=sample_weight)\n",
      "C:\\ProgramData\\Anaconda3\\lib\\site-packages\\sklearn\\metrics\\scorer.py:100: DeprecationWarning: Scoring method mean_absolute_error was renamed to neg_mean_absolute_error in version 0.18 and will be removed in 0.20.\n",
      "  sample_weight=sample_weight)\n",
      "C:\\ProgramData\\Anaconda3\\lib\\site-packages\\sklearn\\metrics\\scorer.py:100: DeprecationWarning: Scoring method mean_absolute_error was renamed to neg_mean_absolute_error in version 0.18 and will be removed in 0.20.\n",
      "  sample_weight=sample_weight)\n",
      "C:\\ProgramData\\Anaconda3\\lib\\site-packages\\sklearn\\metrics\\scorer.py:100: DeprecationWarning: Scoring method mean_absolute_error was renamed to neg_mean_absolute_error in version 0.18 and will be removed in 0.20.\n",
      "  sample_weight=sample_weight)\n",
      "C:\\ProgramData\\Anaconda3\\lib\\site-packages\\sklearn\\metrics\\scorer.py:100: DeprecationWarning: Scoring method mean_absolute_error was renamed to neg_mean_absolute_error in version 0.18 and will be removed in 0.20.\n",
      "  sample_weight=sample_weight)\n"
     ]
    },
    {
     "data": {
      "text/plain": [
       "-0.07908496732026145"
      ]
     },
     "execution_count": 54,
     "metadata": {},
     "output_type": "execute_result"
    }
   ],
   "source": [
    "kf = KFold(n_splits=10,shuffle=True,random_state=0)\n",
    "cross_validate_trees(kf,numeros_x2,numeros_y2,criterio='mse',tree_type='Regressor',random=0)\n",
    "#cross_validate_trees(kf,data_wine_x,data_wine_y,criterio='gini',tree_type='Classifier')\n",
    "\n",
    "tree = DecisionTreeRegressor(criterion='mse',max_depth=None,random_state=0)\n",
    "#tree = DecisionTreeClassifier(criterion='gini',max_depth=None,random_state=0)\n",
    "\n",
    "np.mean(cross_val_score(tree, numeros_x2, numeros_y2, cv=kf, scoring='mean_absolute_error'))"
   ]
  },
  {
   "cell_type": "code",
   "execution_count": null,
   "metadata": {},
   "outputs": [],
   "source": []
  }
 ],
 "metadata": {
  "kernelspec": {
   "display_name": "Python 3",
   "language": "python",
   "name": "python3"
  },
  "language_info": {
   "codemirror_mode": {
    "name": "ipython",
    "version": 3
   },
   "file_extension": ".py",
   "mimetype": "text/x-python",
   "name": "python",
   "nbconvert_exporter": "python",
   "pygments_lexer": "ipython3",
   "version": "3.6.5"
  }
 },
 "nbformat": 4,
 "nbformat_minor": 2
}
