{
 "cells": [
  {
   "cell_type": "code",
   "execution_count": 42,
   "metadata": {},
   "outputs": [],
   "source": [
    "from sklearn.naive_bayes import GaussianNB, MultinomialNB, BernoulliNB\n",
    "from sklearn.preprocessing import LabelEncoder\n",
    "from sklearn.model_selection import train_test_split\n",
    "from sklearn.model_selection import KFold\n",
    "from sklearn.metrics import accuracy_score, precision_score, recall_score, f1_score\n",
    "import pandas as pd\n",
    "import holdout\n",
    "from sklearn.model_selection import cross_val_score, cross_validate\n",
    "import numpy as np\n",
    "import warnings\n",
    "warnings.filterwarnings('ignore')"
   ]
  },
  {
   "cell_type": "code",
   "execution_count": 3,
   "metadata": {},
   "outputs": [],
   "source": [
    "dataset = pd.read_csv(\"data_files/Social_Network_Ads.csv\")"
   ]
  },
  {
   "cell_type": "code",
   "execution_count": 4,
   "metadata": {},
   "outputs": [
    {
     "data": {
      "text/html": [
       "<div>\n",
       "<style scoped>\n",
       "    .dataframe tbody tr th:only-of-type {\n",
       "        vertical-align: middle;\n",
       "    }\n",
       "\n",
       "    .dataframe tbody tr th {\n",
       "        vertical-align: top;\n",
       "    }\n",
       "\n",
       "    .dataframe thead th {\n",
       "        text-align: right;\n",
       "    }\n",
       "</style>\n",
       "<table border=\"1\" class=\"dataframe\">\n",
       "  <thead>\n",
       "    <tr style=\"text-align: right;\">\n",
       "      <th></th>\n",
       "      <th>User ID</th>\n",
       "      <th>Gender</th>\n",
       "      <th>Age</th>\n",
       "      <th>EstimatedSalary</th>\n",
       "      <th>Purchased</th>\n",
       "    </tr>\n",
       "  </thead>\n",
       "  <tbody>\n",
       "    <tr>\n",
       "      <th>0</th>\n",
       "      <td>15624510</td>\n",
       "      <td>Male</td>\n",
       "      <td>19</td>\n",
       "      <td>19000</td>\n",
       "      <td>0</td>\n",
       "    </tr>\n",
       "    <tr>\n",
       "      <th>1</th>\n",
       "      <td>15810944</td>\n",
       "      <td>Male</td>\n",
       "      <td>35</td>\n",
       "      <td>20000</td>\n",
       "      <td>0</td>\n",
       "    </tr>\n",
       "    <tr>\n",
       "      <th>2</th>\n",
       "      <td>15668575</td>\n",
       "      <td>Female</td>\n",
       "      <td>26</td>\n",
       "      <td>43000</td>\n",
       "      <td>0</td>\n",
       "    </tr>\n",
       "    <tr>\n",
       "      <th>3</th>\n",
       "      <td>15603246</td>\n",
       "      <td>Female</td>\n",
       "      <td>27</td>\n",
       "      <td>57000</td>\n",
       "      <td>0</td>\n",
       "    </tr>\n",
       "    <tr>\n",
       "      <th>4</th>\n",
       "      <td>15804002</td>\n",
       "      <td>Male</td>\n",
       "      <td>19</td>\n",
       "      <td>76000</td>\n",
       "      <td>0</td>\n",
       "    </tr>\n",
       "  </tbody>\n",
       "</table>\n",
       "</div>"
      ],
      "text/plain": [
       "    User ID  Gender  Age  EstimatedSalary  Purchased\n",
       "0  15624510    Male   19            19000          0\n",
       "1  15810944    Male   35            20000          0\n",
       "2  15668575  Female   26            43000          0\n",
       "3  15603246  Female   27            57000          0\n",
       "4  15804002    Male   19            76000          0"
      ]
     },
     "execution_count": 4,
     "metadata": {},
     "output_type": "execute_result"
    }
   ],
   "source": [
    "dataset.head()"
   ]
  },
  {
   "cell_type": "markdown",
   "metadata": {},
   "source": [
    "# Holdout (500 primeiras linhas treino, resto validação)"
   ]
  },
  {
   "cell_type": "code",
   "execution_count": 8,
   "metadata": {},
   "outputs": [],
   "source": [
    "dataset_train = dataset.iloc[:300,:]\n",
    "dataset_test = dataset.iloc[300:,:]"
   ]
  },
  {
   "cell_type": "code",
   "execution_count": 9,
   "metadata": {},
   "outputs": [
    {
     "name": "stdout",
     "output_type": "stream",
     "text": [
      "300 100 400\n"
     ]
    }
   ],
   "source": [
    "print(len(dataset_train),len(dataset_test),len(dataset))"
   ]
  },
  {
   "cell_type": "markdown",
   "metadata": {},
   "source": [
    "# Separando dados do target"
   ]
  },
  {
   "cell_type": "code",
   "execution_count": 10,
   "metadata": {},
   "outputs": [
    {
     "name": "stdout",
     "output_type": "stream",
     "text": [
      "   Gender  Age  EstimatedSalary\n",
      "0    Male   19            19000\n",
      "1    Male   35            20000\n",
      "2  Female   26            43000\n",
      "3  Female   27            57000\n",
      "4    Male   19            76000\n",
      "   Purchased\n",
      "0          0\n",
      "1          0\n",
      "2          0\n",
      "3          0\n",
      "4          0\n"
     ]
    }
   ],
   "source": [
    "dataset_train_x = dataset_train.iloc[:,1:-1]\n",
    "print(dataset_train_x.head())\n",
    "\n",
    "dataset_train_y = dataset_train.iloc[:,-1:]\n",
    "print(dataset_train_y.head())"
   ]
  },
  {
   "cell_type": "code",
   "execution_count": 11,
   "metadata": {},
   "outputs": [
    {
     "name": "stdout",
     "output_type": "stream",
     "text": [
      "     Gender  Age  EstimatedSalary\n",
      "300  Female   58            38000\n",
      "301    Male   48            74000\n",
      "302  Female   37           137000\n",
      "303    Male   37            79000\n",
      "304  Female   40            60000\n",
      "     Purchased\n",
      "300          1\n",
      "301          1\n",
      "302          1\n",
      "303          1\n",
      "304          0\n"
     ]
    }
   ],
   "source": [
    "dataset_test_x = dataset_test.iloc[:,1:-1]\n",
    "print(dataset_test_x.head())\n",
    "\n",
    "dataset_test_y = dataset_test.iloc[:,-1:]\n",
    "print(dataset_test_y.head())"
   ]
  },
  {
   "cell_type": "markdown",
   "metadata": {},
   "source": [
    "# Encoding variables to numeric values"
   ]
  },
  {
   "cell_type": "code",
   "execution_count": 12,
   "metadata": {},
   "outputs": [],
   "source": [
    "number = LabelEncoder()"
   ]
  },
  {
   "cell_type": "code",
   "execution_count": 13,
   "metadata": {},
   "outputs": [],
   "source": [
    "dataset_train_x_encoded = pd.DataFrame(columns=dataset_train_x.columns)"
   ]
  },
  {
   "cell_type": "code",
   "execution_count": 14,
   "metadata": {},
   "outputs": [],
   "source": [
    "dataset_train_x_encoded['Gender'] = number.fit_transform(dataset_train_x['Gender'])"
   ]
  },
  {
   "cell_type": "code",
   "execution_count": 15,
   "metadata": {},
   "outputs": [],
   "source": [
    "dataset_train_x_encoded['Age'] = dataset_train_x['Age']"
   ]
  },
  {
   "cell_type": "code",
   "execution_count": 16,
   "metadata": {},
   "outputs": [],
   "source": [
    "dataset_train_x_encoded['EstimatedSalary'] = dataset_train_x['EstimatedSalary']"
   ]
  },
  {
   "cell_type": "code",
   "execution_count": 17,
   "metadata": {},
   "outputs": [],
   "source": [
    "dataset_test_x_encoded = pd.DataFrame(columns=dataset_test_x.columns, index=dataset_test_x.index)"
   ]
  },
  {
   "cell_type": "code",
   "execution_count": 18,
   "metadata": {},
   "outputs": [],
   "source": [
    "dataset_test_x_encoded['Gender'] = number.fit_transform(dataset_test_x['Gender'])"
   ]
  },
  {
   "cell_type": "code",
   "execution_count": 19,
   "metadata": {},
   "outputs": [],
   "source": [
    "dataset_test_x_encoded['Age'] = dataset_test_x['Age']"
   ]
  },
  {
   "cell_type": "code",
   "execution_count": 20,
   "metadata": {},
   "outputs": [],
   "source": [
    "dataset_test_x_encoded['EstimatedSalary'] = dataset_test_x['EstimatedSalary']"
   ]
  },
  {
   "cell_type": "code",
   "execution_count": 21,
   "metadata": {},
   "outputs": [],
   "source": [
    "model = GaussianNB()\n",
    "#model.fit(dataset_train_x_encoded, dataset_train_y)\n",
    "kf = KFold(n_splits=10,shuffle=False)"
   ]
  },
  {
   "cell_type": "code",
   "execution_count": 23,
   "metadata": {},
   "outputs": [
    {
     "name": "stderr",
     "output_type": "stream",
     "text": [
      "C:\\ProgramData\\Anaconda3\\lib\\site-packages\\sklearn\\utils\\validation.py:578: DataConversionWarning: A column-vector y was passed when a 1d array was expected. Please change the shape of y to (n_samples, ), for example using ravel().\n",
      "  y = column_or_1d(y, warn=True)\n",
      "C:\\ProgramData\\Anaconda3\\lib\\site-packages\\sklearn\\utils\\validation.py:578: DataConversionWarning: A column-vector y was passed when a 1d array was expected. Please change the shape of y to (n_samples, ), for example using ravel().\n",
      "  y = column_or_1d(y, warn=True)\n",
      "C:\\ProgramData\\Anaconda3\\lib\\site-packages\\sklearn\\utils\\validation.py:578: DataConversionWarning: A column-vector y was passed when a 1d array was expected. Please change the shape of y to (n_samples, ), for example using ravel().\n",
      "  y = column_or_1d(y, warn=True)\n",
      "C:\\ProgramData\\Anaconda3\\lib\\site-packages\\sklearn\\utils\\validation.py:578: DataConversionWarning: A column-vector y was passed when a 1d array was expected. Please change the shape of y to (n_samples, ), for example using ravel().\n",
      "  y = column_or_1d(y, warn=True)\n",
      "C:\\ProgramData\\Anaconda3\\lib\\site-packages\\sklearn\\utils\\validation.py:578: DataConversionWarning: A column-vector y was passed when a 1d array was expected. Please change the shape of y to (n_samples, ), for example using ravel().\n",
      "  y = column_or_1d(y, warn=True)\n",
      "C:\\ProgramData\\Anaconda3\\lib\\site-packages\\sklearn\\utils\\validation.py:578: DataConversionWarning: A column-vector y was passed when a 1d array was expected. Please change the shape of y to (n_samples, ), for example using ravel().\n",
      "  y = column_or_1d(y, warn=True)\n",
      "C:\\ProgramData\\Anaconda3\\lib\\site-packages\\sklearn\\utils\\validation.py:578: DataConversionWarning: A column-vector y was passed when a 1d array was expected. Please change the shape of y to (n_samples, ), for example using ravel().\n",
      "  y = column_or_1d(y, warn=True)\n",
      "C:\\ProgramData\\Anaconda3\\lib\\site-packages\\sklearn\\utils\\validation.py:578: DataConversionWarning: A column-vector y was passed when a 1d array was expected. Please change the shape of y to (n_samples, ), for example using ravel().\n",
      "  y = column_or_1d(y, warn=True)\n",
      "C:\\ProgramData\\Anaconda3\\lib\\site-packages\\sklearn\\utils\\validation.py:578: DataConversionWarning: A column-vector y was passed when a 1d array was expected. Please change the shape of y to (n_samples, ), for example using ravel().\n",
      "  y = column_or_1d(y, warn=True)\n",
      "C:\\ProgramData\\Anaconda3\\lib\\site-packages\\sklearn\\utils\\validation.py:578: DataConversionWarning: A column-vector y was passed when a 1d array was expected. Please change the shape of y to (n_samples, ), for example using ravel().\n",
      "  y = column_or_1d(y, warn=True)\n"
     ]
    }
   ],
   "source": [
    "scores = cross_val_score(model, dataset_train_x_encoded, dataset_train_y, cv=kf)"
   ]
  },
  {
   "cell_type": "code",
   "execution_count": 24,
   "metadata": {},
   "outputs": [
    {
     "data": {
      "text/plain": [
       "array([0.6       , 1.        , 0.9       , 0.96666667, 0.93333333,\n",
       "       0.93333333, 0.9       , 0.76666667, 0.93333333, 0.76666667])"
      ]
     },
     "execution_count": 24,
     "metadata": {},
     "output_type": "execute_result"
    }
   ],
   "source": [
    "scores"
   ]
  },
  {
   "cell_type": "code",
   "execution_count": 27,
   "metadata": {},
   "outputs": [
    {
     "name": "stderr",
     "output_type": "stream",
     "text": [
      "C:\\ProgramData\\Anaconda3\\lib\\site-packages\\sklearn\\utils\\validation.py:578: DataConversionWarning: A column-vector y was passed when a 1d array was expected. Please change the shape of y to (n_samples, ), for example using ravel().\n",
      "  y = column_or_1d(y, warn=True)\n"
     ]
    },
    {
     "data": {
      "text/plain": [
       "GaussianNB(priors=None)"
      ]
     },
     "execution_count": 27,
     "metadata": {},
     "output_type": "execute_result"
    }
   ],
   "source": [
    "model.fit(dataset_train_x_encoded, dataset_train_y)"
   ]
  },
  {
   "cell_type": "code",
   "execution_count": 28,
   "metadata": {},
   "outputs": [
    {
     "data": {
      "text/plain": [
       "0.8733333333333333"
      ]
     },
     "execution_count": 28,
     "metadata": {},
     "output_type": "execute_result"
    }
   ],
   "source": [
    "model.score(dataset_train_x_encoded, dataset_train_y)"
   ]
  },
  {
   "cell_type": "code",
   "execution_count": 29,
   "metadata": {},
   "outputs": [
    {
     "data": {
      "text/plain": [
       "0.77"
      ]
     },
     "execution_count": 29,
     "metadata": {},
     "output_type": "execute_result"
    }
   ],
   "source": [
    "model.score(dataset_test_x_encoded, dataset_test_y)"
   ]
  },
  {
   "cell_type": "code",
   "execution_count": 34,
   "metadata": {},
   "outputs": [],
   "source": [
    "def cross_validate_bayes(cv,data_x,data_y,nb_type='Gaussian'):\n",
    "    scores_train= []\n",
    "    scores_test= []\n",
    "    acc_train = []\n",
    "    acc_test = []\n",
    "    #auc_train = []\n",
    "    #auc_test = []\n",
    "    precision_test = []\n",
    "    precision_train = []\n",
    "    recall_test = []\n",
    "    recall_train = []\n",
    "    f1_test = []\n",
    "    f1_train = []\n",
    "    y_pred_train = []\n",
    "    y_pred_test = []\n",
    "    \n",
    "    targets = [] \n",
    "    for i in data_y.iloc[:,0].unique():\n",
    "        targets.append(str(i))\n",
    "    \n",
    "    for train_idx, test_idx in cv.split(data_x):\n",
    "        X_train, X_test = data_x.iloc[train_idx], data_x.iloc[test_idx] \n",
    "        y_train, y_test = data_y.iloc[train_idx], data_y.iloc[test_idx]\n",
    "        #print(test_idx)\n",
    "        if nb_type == 'Gaussian':\n",
    "            model = GaussianNB() \n",
    "        if nb_type == 'Multinomial':\n",
    "            model = MultinomialNB() \n",
    "        if nb_type == 'Bernoulli':    \n",
    "            model = BernoulliNB() \n",
    "        model.fit(X_train, y_train)\n",
    "        y_pred_train = model.predict(X_train)\n",
    "        y_pred_test = model.predict(X_test)\n",
    "        precision_test.append(precision_score(y_test, y_pred_test,average='micro'))\n",
    "        precision_train.append(precision_score(y_train, y_pred_train,average='micro'))\n",
    "        recall_test.append(recall_score(y_test, y_pred_test,average='micro'))\n",
    "        recall_train.append(recall_score(y_train, y_pred_train,average='micro'))\n",
    "        f1_test.append(f1_score(y_test, y_pred_test,average='micro'))\n",
    "        f1_train.append(f1_score(y_train, y_pred_train,average='micro'))\n",
    "        acc_test.append(accuracy_score(y_test, y_pred_test))\n",
    "        acc_train.append(accuracy_score(y_train, y_pred_train))\n",
    "        \n",
    "        #auc_train.append(roc_auc_score(y_train, y_pred_train))\n",
    "        #auc_test.append(roc_auc_score(y_test, y_pred_test))\n",
    "        \n",
    "    print(\"TRAIN :\")\n",
    "    print('Accuracy Mean', np.mean(acc_train))\n",
    "    print('Precision Mean', np.mean(precision_train))\n",
    "    print('Recall Mean', np.mean(recall_train))\n",
    "    print('F1 Mean', np.mean(f1_train))\n",
    "    \n",
    "    print(\"TEST :\")\n",
    "    #print('Accuracy List Train: ', acc_test)\n",
    "    print('Accuracy Mean', np.mean(acc_test))\n",
    "    print('Precision Mean', np.mean(precision_test))\n",
    "    print('Recall Mean', np.mean(recall_test))\n",
    "    print('F1 Mean', np.mean(f1_test))\n"
   ]
  },
  {
   "cell_type": "code",
   "execution_count": 43,
   "metadata": {},
   "outputs": [
    {
     "name": "stdout",
     "output_type": "stream",
     "text": [
      "TRAIN :\n",
      "Accuracy Mean 0.8781481481481481\n",
      "Precision Mean 0.8781481481481481\n",
      "Recall Mean 0.8781481481481481\n",
      "F1 Mean 0.8781481481481481\n",
      "TEST :\n",
      "Accuracy Mean 0.8700000000000001\n",
      "Precision Mean 0.8700000000000001\n",
      "Recall Mean 0.8700000000000001\n",
      "F1 Mean 0.8700000000000001\n",
      "Mean cval_score (Test):  0.8700000000000001\n",
      "['fit_time', 'score_time', 'test_score', 'train_score']\n",
      "Train:  0.8781481481481481\n",
      "Test:  0.8700000000000001\n"
     ]
    }
   ],
   "source": [
    "model = GaussianNB()\n",
    "kf = KFold(n_splits=10,shuffle=False)\n",
    "\n",
    "cross_validate_bayes(kf,dataset_train_x_encoded,dataset_train_y,nb_type='Gaussian')\n",
    "\n",
    "\n",
    "cval = cross_val_score(model, dataset_train_x_encoded, dataset_train_y, cv=kf,scoring='accuracy')\n",
    "print(\"Mean cval_score (Test): \", np.mean(cval))\n",
    "\n",
    "\n",
    "cvalidate = cross_validate(model,dataset_train_x_encoded,dataset_train_y,cv=kf,scoring='accuracy', return_train_score=True)\n",
    "print(sorted(cvalidate.keys()))\n",
    "print(\"Train: \",np.mean(cvalidate['train_score']))\n",
    "print(\"Test: \",np.mean(cvalidate['test_score']))"
   ]
  },
  {
   "cell_type": "code",
   "execution_count": null,
   "metadata": {},
   "outputs": [],
   "source": []
  }
 ],
 "metadata": {
  "kernelspec": {
   "display_name": "Python 3",
   "language": "python",
   "name": "python3"
  },
  "language_info": {
   "codemirror_mode": {
    "name": "ipython",
    "version": 3
   },
   "file_extension": ".py",
   "mimetype": "text/x-python",
   "name": "python",
   "nbconvert_exporter": "python",
   "pygments_lexer": "ipython3",
   "version": "3.6.5"
  }
 },
 "nbformat": 4,
 "nbformat_minor": 2
}
