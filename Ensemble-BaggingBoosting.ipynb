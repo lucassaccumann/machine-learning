{
 "cells": [
  {
   "cell_type": "code",
   "execution_count": 11,
   "metadata": {},
   "outputs": [],
   "source": [
    "import pandas as pd\n",
    "import numpy as np\n",
    "import matplotlib.pyplot as plt\n",
    "from sklearn import model_selection\n",
    "from sklearn.ensemble import BaggingClassifier, AdaBoostClassifier, GradientBoostingClassifier\n",
    "from sklearn.tree import DecisionTreeClassifier\n"
   ]
  },
  {
   "cell_type": "code",
   "execution_count": 6,
   "metadata": {},
   "outputs": [],
   "source": [
    "url = \"https://raw.githubusercontent.com/jbrownlee/Datasets/master/pima-indians-diabetes.data.csv\"\n",
    "names = ['preg', 'plas', 'pres', 'skin', 'test', 'mass', 'pedi', 'age', 'class']\n",
    "dataframe = pd.read_csv(url, names=names)\n",
    "array = dataframe.values\n",
    "X = array[:,0:8]\n",
    "Y = array[:,8]\n",
    "seed = 0\n",
    "num_trees = 100"
   ]
  },
  {
   "cell_type": "code",
   "execution_count": 7,
   "metadata": {},
   "outputs": [
    {
     "name": "stdout",
     "output_type": "stream",
     "text": [
      "Acc (Teste):  0.7629528366370472\n",
      "\n",
      "\n",
      "['fit_time', 'score_time', 'test_score', 'train_score']\n",
      "Train:  1.0\n",
      "Test:  0.7629528366370472\n"
     ]
    }
   ],
   "source": [
    "kf = model_selection.KFold(n_splits=10, random_state=seed)\n",
    "cart = DecisionTreeClassifier()\n",
    "\n",
    "model = BaggingClassifier(base_estimator=cart, n_estimators=num_trees, random_state=seed)\n",
    "\n",
    "results = model_selection.cross_val_score(model, X, Y, cv=kf)\n",
    "print(\"Acc (Teste): \",results.mean())\n",
    "print(\"\\n\")\n",
    "cvalidate = model_selection.cross_validate(model,X,Y,cv=kf,scoring='accuracy', return_train_score=True)\n",
    "print(sorted(cvalidate.keys()))\n",
    "print(\"Train: \",np.mean(cvalidate['train_score']))\n",
    "print(\"Test: \",np.mean(cvalidate['test_score']))\n"
   ]
  },
  {
   "cell_type": "code",
   "execution_count": 10,
   "metadata": {},
   "outputs": [
    {
     "name": "stdout",
     "output_type": "stream",
     "text": [
      "Acc (Teste):  0.7421565276828435\n",
      "\n",
      "\n",
      "['fit_time', 'score_time', 'test_score', 'train_score']\n",
      "Train:  0.8425936692236267\n",
      "Test:  0.7421565276828435\n"
     ]
    }
   ],
   "source": [
    "model = AdaBoostClassifier(n_estimators=num_trees, random_state=seed)\n",
    "results = model_selection.cross_val_score(model, X, Y, cv=kf)\n",
    "print(\"Acc (Teste): \",results.mean())\n",
    "print(\"\\n\")\n",
    "cvalidate = model_selection.cross_validate(model,X,Y,cv=kf,scoring='accuracy', return_train_score=True)\n",
    "print(sorted(cvalidate.keys()))\n",
    "print(\"Train: \",np.mean(cvalidate['train_score']))\n",
    "print(\"Test: \",np.mean(cvalidate['test_score']))"
   ]
  },
  {
   "cell_type": "code",
   "execution_count": 15,
   "metadata": {},
   "outputs": [
    {
     "name": "stdout",
     "output_type": "stream",
     "text": [
      "Acc (Teste):  0.7655844155844156\n",
      "\n",
      "\n",
      "['fit_time', 'score_time', 'test_accuracy', 'test_f1', 'train_accuracy', 'train_f1']\n",
      "Train Acc:  0.9121826455752322\n",
      "Train F1:  0.8671380599541166\n",
      "Test Acc:  0.7655844155844156\n",
      "Test F1:  0.634375445231987\n"
     ]
    }
   ],
   "source": [
    "model = GradientBoostingClassifier(n_estimators=num_trees, random_state=seed)\n",
    "results = model_selection.cross_val_score(model, X, Y, cv=kf)\n",
    "print(\"Acc (Teste): \",results.mean())\n",
    "print(\"\\n\")\n",
    "cvalidate = model_selection.cross_validate(model,X,Y,cv=kf,scoring=['accuracy','f1'], return_train_score=True)\n",
    "print(sorted(cvalidate.keys()))\n",
    "print(\"Train Acc: \",np.mean(cvalidate['train_accuracy']))\n",
    "print(\"Train F1: \",np.mean(cvalidate['train_f1']))\n",
    "print(\"Test Acc: \",np.mean(cvalidate['test_accuracy']))\n",
    "print(\"Test F1: \",np.mean(cvalidate['test_f1']))"
   ]
  },
  {
   "cell_type": "code",
   "execution_count": null,
   "metadata": {},
   "outputs": [],
   "source": []
  }
 ],
 "metadata": {
  "kernelspec": {
   "display_name": "Python 3",
   "language": "python",
   "name": "python3"
  },
  "language_info": {
   "codemirror_mode": {
    "name": "ipython",
    "version": 3
   },
   "file_extension": ".py",
   "mimetype": "text/x-python",
   "name": "python",
   "nbconvert_exporter": "python",
   "pygments_lexer": "ipython3",
   "version": "3.6.5"
  }
 },
 "nbformat": 4,
 "nbformat_minor": 2
}
